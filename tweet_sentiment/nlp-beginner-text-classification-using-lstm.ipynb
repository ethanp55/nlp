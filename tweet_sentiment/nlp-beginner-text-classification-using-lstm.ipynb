{
 "cells": [
  {
   "cell_type": "markdown",
   "metadata": {
    "papermill": {
     "duration": 0.033151,
     "end_time": "2022-07-04T07:04:11.130336",
     "exception": false,
     "start_time": "2022-07-04T07:04:11.097185",
     "status": "completed"
    },
    "tags": []
   },
   "source": [
    "# Natural Language Processing\n",
    "**Natural Language Processing or NLP** is a branch of Artificial Intelligence which deal with bridging the machines understanding humans in their Natural Language. Natural Language can be in form of text or sound, which are used for humans to communicate each other. NLP can enable humans to communicate to machines in a natural way. \n",
    "\n",
    "\n",
    "**Text Classification** is a process involved in Sentiment Analysis. It is classification of peoples opinion or expressions into different sentiments. Sentiments include *Positive, Neutral*, and *Negative*, *Review Ratings* and *Happy, Sad*. Sentiment Analysis can be done on different consumer centered industries to analyse people's opinion on a particular product or subject. \n",
    "![Sentiment Analysis](https://media-exp1.licdn.com/dms/image/C4D12AQHPAZFZZxBtng/article-cover_image-shrink_600_2000/0?e=1593648000&v=beta&t=eQAR5WOihE2_ZCCAJbsgNyJlaI_GW7u8lDw45zGbfuU)\n",
    "> Sentiment Classification is a perfect problem in NLP for getting started in it. You can really learn a lot of concepts and techniques to master through doing project. Kaggle is a great place to learn and contribute your own ideas and creations. I learnt lot of things from other, now it's my turn to make document my project.\n",
    "\n",
    "I will go through all the key and fundament concepts of NLP and Sequence Models, which you will learn in this notebook. \n",
    "![Sentiment Analysis](https://fiverr-res.cloudinary.com/images/t_main1,q_auto,f_auto,q_auto,f_auto/gigs/121192228/original/677c209a0a064cb9253973d3663684acf91dab84/do-nlp-projects-with-python-nltk-gensim.jpg)\n",
    "Let's get started with code without furthur ado.\n",
    "\n",
    "<font color='red'> If you find this notebook helpful, please leave a UPVOTE to encourage me</font>"
   ]
  },
  {
   "cell_type": "markdown",
   "metadata": {
    "papermill": {
     "duration": 0.031206,
     "end_time": "2022-07-04T07:04:11.194442",
     "exception": false,
     "start_time": "2022-07-04T07:04:11.163236",
     "status": "completed"
    },
    "tags": []
   },
   "source": [
    "##  Importing Dependencies\n",
    "   We shall start by importing all the neccessary libraries. I will explain the exact use of each library later in this notebook."
   ]
  },
  {
   "cell_type": "code",
   "execution_count": 1,
   "metadata": {
    "_cell_guid": "79c7e3d0-c299-4dcb-8224-4455121ee9b0",
    "_uuid": "d629ff2d2480ee46fbb7e2d37f6b5fab8052498a",
    "execution": {
     "iopub.execute_input": "2022-07-04T05:56:04.548527Z",
     "iopub.status.busy": "2022-07-04T05:56:04.548212Z",
     "iopub.status.idle": "2022-07-04T05:56:10.013041Z",
     "shell.execute_reply": "2022-07-04T05:56:10.011746Z",
     "shell.execute_reply.started": "2022-07-04T05:56:04.548478Z"
    },
    "papermill": {
     "duration": 5.595835,
     "end_time": "2022-07-04T07:04:16.821482",
     "exception": false,
     "start_time": "2022-07-04T07:04:11.225647",
     "status": "completed"
    },
    "tags": []
   },
   "outputs": [
    {
     "name": "stdout",
     "output_type": "stream",
     "text": [
      "Tensorflow Version 2.17.0\n"
     ]
    },
    {
     "name": "stderr",
     "output_type": "stream",
     "text": [
      "[nltk_data] Downloading package stopwords to /Users/mymac/nltk_data...\n",
      "[nltk_data]   Package stopwords is already up-to-date!\n"
     ]
    }
   ],
   "source": [
    "import tensorflow as tf\n",
    "import matplotlib.pyplot as plt\n",
    "import pandas as pd\n",
    "import numpy as np\n",
    "\n",
    "import nltk \n",
    "nltk.download('stopwords')\n",
    "from nltk.corpus import stopwords\n",
    "from nltk.stem import SnowballStemmer\n",
    "\n",
    "from sklearn.model_selection import train_test_split\n",
    "from sklearn.preprocessing import LabelEncoder\n",
    "\n",
    "\n",
    "import re\n",
    "\n",
    "print(\"Tensorflow Version\",tf.__version__)"
   ]
  },
  {
   "cell_type": "markdown",
   "metadata": {
    "papermill": {
     "duration": 0.052904,
     "end_time": "2022-07-04T07:04:16.928972",
     "exception": false,
     "start_time": "2022-07-04T07:04:16.876068",
     "status": "completed"
    },
    "tags": []
   },
   "source": [
    "#  Dataset Preprocessing\n",
    "In this notebook, I am using **Sentiment-140** from [Kaggle](https://www.kaggle.com/kazanova/sentiment140). It contains a labels data of 1.6 Million Tweets and I find it a good amount of data to train our model."
   ]
  },
  {
   "cell_type": "code",
   "execution_count": 4,
   "metadata": {
    "execution": {
     "iopub.execute_input": "2022-07-04T05:57:31.696077Z",
     "iopub.status.busy": "2022-07-04T05:57:31.695707Z",
     "iopub.status.idle": "2022-07-04T05:57:35.359544Z",
     "shell.execute_reply": "2022-07-04T05:57:35.358810Z",
     "shell.execute_reply.started": "2022-07-04T05:57:31.696011Z"
    },
    "papermill": {
     "duration": 5.607724,
     "end_time": "2022-07-04T07:04:22.589425",
     "exception": false,
     "start_time": "2022-07-04T07:04:16.981701",
     "status": "completed"
    },
    "tags": []
   },
   "outputs": [
    {
     "data": {
      "text/html": [
       "<div>\n",
       "<style scoped>\n",
       "    .dataframe tbody tr th:only-of-type {\n",
       "        vertical-align: middle;\n",
       "    }\n",
       "\n",
       "    .dataframe tbody tr th {\n",
       "        vertical-align: top;\n",
       "    }\n",
       "\n",
       "    .dataframe thead th {\n",
       "        text-align: right;\n",
       "    }\n",
       "</style>\n",
       "<table border=\"1\" class=\"dataframe\">\n",
       "  <thead>\n",
       "    <tr style=\"text-align: right;\">\n",
       "      <th></th>\n",
       "      <th>0</th>\n",
       "      <th>1</th>\n",
       "      <th>2</th>\n",
       "      <th>3</th>\n",
       "      <th>4</th>\n",
       "      <th>5</th>\n",
       "    </tr>\n",
       "  </thead>\n",
       "  <tbody>\n",
       "    <tr>\n",
       "      <th>0</th>\n",
       "      <td>0</td>\n",
       "      <td>1467810369</td>\n",
       "      <td>Mon Apr 06 22:19:45 PDT 2009</td>\n",
       "      <td>NO_QUERY</td>\n",
       "      <td>_TheSpecialOne_</td>\n",
       "      <td>@switchfoot http://twitpic.com/2y1zl - Awww, t...</td>\n",
       "    </tr>\n",
       "    <tr>\n",
       "      <th>1</th>\n",
       "      <td>0</td>\n",
       "      <td>1467810672</td>\n",
       "      <td>Mon Apr 06 22:19:49 PDT 2009</td>\n",
       "      <td>NO_QUERY</td>\n",
       "      <td>scotthamilton</td>\n",
       "      <td>is upset that he can't update his Facebook by ...</td>\n",
       "    </tr>\n",
       "    <tr>\n",
       "      <th>2</th>\n",
       "      <td>0</td>\n",
       "      <td>1467810917</td>\n",
       "      <td>Mon Apr 06 22:19:53 PDT 2009</td>\n",
       "      <td>NO_QUERY</td>\n",
       "      <td>mattycus</td>\n",
       "      <td>@Kenichan I dived many times for the ball. Man...</td>\n",
       "    </tr>\n",
       "    <tr>\n",
       "      <th>3</th>\n",
       "      <td>0</td>\n",
       "      <td>1467811184</td>\n",
       "      <td>Mon Apr 06 22:19:57 PDT 2009</td>\n",
       "      <td>NO_QUERY</td>\n",
       "      <td>ElleCTF</td>\n",
       "      <td>my whole body feels itchy and like its on fire</td>\n",
       "    </tr>\n",
       "    <tr>\n",
       "      <th>4</th>\n",
       "      <td>0</td>\n",
       "      <td>1467811193</td>\n",
       "      <td>Mon Apr 06 22:19:57 PDT 2009</td>\n",
       "      <td>NO_QUERY</td>\n",
       "      <td>Karoli</td>\n",
       "      <td>@nationwideclass no, it's not behaving at all....</td>\n",
       "    </tr>\n",
       "  </tbody>\n",
       "</table>\n",
       "</div>"
      ],
      "text/plain": [
       "   0           1                             2         3                4  \\\n",
       "0  0  1467810369  Mon Apr 06 22:19:45 PDT 2009  NO_QUERY  _TheSpecialOne_   \n",
       "1  0  1467810672  Mon Apr 06 22:19:49 PDT 2009  NO_QUERY    scotthamilton   \n",
       "2  0  1467810917  Mon Apr 06 22:19:53 PDT 2009  NO_QUERY         mattycus   \n",
       "3  0  1467811184  Mon Apr 06 22:19:57 PDT 2009  NO_QUERY          ElleCTF   \n",
       "4  0  1467811193  Mon Apr 06 22:19:57 PDT 2009  NO_QUERY           Karoli   \n",
       "\n",
       "                                                   5  \n",
       "0  @switchfoot http://twitpic.com/2y1zl - Awww, t...  \n",
       "1  is upset that he can't update his Facebook by ...  \n",
       "2  @Kenichan I dived many times for the ball. Man...  \n",
       "3    my whole body feels itchy and like its on fire   \n",
       "4  @nationwideclass no, it's not behaving at all....  "
      ]
     },
     "execution_count": 4,
     "metadata": {},
     "output_type": "execute_result"
    }
   ],
   "source": [
    "df = pd.read_csv('./training.1600000.processed.noemoticon.csv', encoding = 'latin',header=None)\n",
    "df.head()"
   ]
  },
  {
   "cell_type": "markdown",
   "metadata": {
    "papermill": {
     "duration": 0.031674,
     "end_time": "2022-07-04T07:04:22.654180",
     "exception": false,
     "start_time": "2022-07-04T07:04:22.622506",
     "status": "completed"
    },
    "tags": []
   },
   "source": [
    "You can see the columns are without any proper names. Lets rename them for our reference"
   ]
  },
  {
   "cell_type": "code",
   "execution_count": 5,
   "metadata": {
    "execution": {
     "iopub.execute_input": "2022-07-04T05:57:35.361605Z",
     "iopub.status.busy": "2022-07-04T05:57:35.361255Z",
     "iopub.status.idle": "2022-07-04T05:57:35.376872Z",
     "shell.execute_reply": "2022-07-04T05:57:35.376206Z",
     "shell.execute_reply.started": "2022-07-04T05:57:35.361549Z"
    },
    "papermill": {
     "duration": 0.047441,
     "end_time": "2022-07-04T07:04:22.734128",
     "exception": false,
     "start_time": "2022-07-04T07:04:22.686687",
     "status": "completed"
    },
    "tags": []
   },
   "outputs": [
    {
     "data": {
      "text/html": [
       "<div>\n",
       "<style scoped>\n",
       "    .dataframe tbody tr th:only-of-type {\n",
       "        vertical-align: middle;\n",
       "    }\n",
       "\n",
       "    .dataframe tbody tr th {\n",
       "        vertical-align: top;\n",
       "    }\n",
       "\n",
       "    .dataframe thead th {\n",
       "        text-align: right;\n",
       "    }\n",
       "</style>\n",
       "<table border=\"1\" class=\"dataframe\">\n",
       "  <thead>\n",
       "    <tr style=\"text-align: right;\">\n",
       "      <th></th>\n",
       "      <th>sentiment</th>\n",
       "      <th>id</th>\n",
       "      <th>date</th>\n",
       "      <th>query</th>\n",
       "      <th>user_id</th>\n",
       "      <th>text</th>\n",
       "    </tr>\n",
       "  </thead>\n",
       "  <tbody>\n",
       "    <tr>\n",
       "      <th>0</th>\n",
       "      <td>0</td>\n",
       "      <td>1467810369</td>\n",
       "      <td>Mon Apr 06 22:19:45 PDT 2009</td>\n",
       "      <td>NO_QUERY</td>\n",
       "      <td>_TheSpecialOne_</td>\n",
       "      <td>@switchfoot http://twitpic.com/2y1zl - Awww, t...</td>\n",
       "    </tr>\n",
       "    <tr>\n",
       "      <th>1</th>\n",
       "      <td>0</td>\n",
       "      <td>1467810672</td>\n",
       "      <td>Mon Apr 06 22:19:49 PDT 2009</td>\n",
       "      <td>NO_QUERY</td>\n",
       "      <td>scotthamilton</td>\n",
       "      <td>is upset that he can't update his Facebook by ...</td>\n",
       "    </tr>\n",
       "    <tr>\n",
       "      <th>2</th>\n",
       "      <td>0</td>\n",
       "      <td>1467810917</td>\n",
       "      <td>Mon Apr 06 22:19:53 PDT 2009</td>\n",
       "      <td>NO_QUERY</td>\n",
       "      <td>mattycus</td>\n",
       "      <td>@Kenichan I dived many times for the ball. Man...</td>\n",
       "    </tr>\n",
       "    <tr>\n",
       "      <th>3</th>\n",
       "      <td>0</td>\n",
       "      <td>1467811184</td>\n",
       "      <td>Mon Apr 06 22:19:57 PDT 2009</td>\n",
       "      <td>NO_QUERY</td>\n",
       "      <td>ElleCTF</td>\n",
       "      <td>my whole body feels itchy and like its on fire</td>\n",
       "    </tr>\n",
       "    <tr>\n",
       "      <th>4</th>\n",
       "      <td>0</td>\n",
       "      <td>1467811193</td>\n",
       "      <td>Mon Apr 06 22:19:57 PDT 2009</td>\n",
       "      <td>NO_QUERY</td>\n",
       "      <td>Karoli</td>\n",
       "      <td>@nationwideclass no, it's not behaving at all....</td>\n",
       "    </tr>\n",
       "  </tbody>\n",
       "</table>\n",
       "</div>"
      ],
      "text/plain": [
       "   sentiment          id                          date     query  \\\n",
       "0          0  1467810369  Mon Apr 06 22:19:45 PDT 2009  NO_QUERY   \n",
       "1          0  1467810672  Mon Apr 06 22:19:49 PDT 2009  NO_QUERY   \n",
       "2          0  1467810917  Mon Apr 06 22:19:53 PDT 2009  NO_QUERY   \n",
       "3          0  1467811184  Mon Apr 06 22:19:57 PDT 2009  NO_QUERY   \n",
       "4          0  1467811193  Mon Apr 06 22:19:57 PDT 2009  NO_QUERY   \n",
       "\n",
       "           user_id                                               text  \n",
       "0  _TheSpecialOne_  @switchfoot http://twitpic.com/2y1zl - Awww, t...  \n",
       "1    scotthamilton  is upset that he can't update his Facebook by ...  \n",
       "2         mattycus  @Kenichan I dived many times for the ball. Man...  \n",
       "3          ElleCTF    my whole body feels itchy and like its on fire   \n",
       "4           Karoli  @nationwideclass no, it's not behaving at all....  "
      ]
     },
     "execution_count": 5,
     "metadata": {},
     "output_type": "execute_result"
    }
   ],
   "source": [
    "df.columns = ['sentiment', 'id', 'date', 'query', 'user_id', 'text']\n",
    "df.head()"
   ]
  },
  {
   "cell_type": "markdown",
   "metadata": {
    "papermill": {
     "duration": 0.03216,
     "end_time": "2022-07-04T07:04:22.798648",
     "exception": false,
     "start_time": "2022-07-04T07:04:22.766488",
     "status": "completed"
    },
    "tags": []
   },
   "source": [
    "We are going to train only on text to classify its sentiment. So we can ditch the rest of the useless columns."
   ]
  },
  {
   "cell_type": "code",
   "execution_count": 6,
   "metadata": {
    "execution": {
     "iopub.execute_input": "2022-07-04T05:57:36.263914Z",
     "iopub.status.busy": "2022-07-04T05:57:36.263435Z",
     "iopub.status.idle": "2022-07-04T05:57:36.315267Z",
     "shell.execute_reply": "2022-07-04T05:57:36.314284Z",
     "shell.execute_reply.started": "2022-07-04T05:57:36.263858Z"
    },
    "papermill": {
     "duration": 0.073664,
     "end_time": "2022-07-04T07:04:22.905274",
     "exception": false,
     "start_time": "2022-07-04T07:04:22.831610",
     "status": "completed"
    },
    "tags": []
   },
   "outputs": [],
   "source": [
    "df = df.drop(['id', 'date', 'query', 'user_id'], axis=1)"
   ]
  },
  {
   "cell_type": "code",
   "execution_count": 7,
   "metadata": {
    "execution": {
     "iopub.execute_input": "2022-07-04T05:57:39.151241Z",
     "iopub.status.busy": "2022-07-04T05:57:39.150885Z",
     "iopub.status.idle": "2022-07-04T05:57:39.609079Z",
     "shell.execute_reply": "2022-07-04T05:57:39.608142Z",
     "shell.execute_reply.started": "2022-07-04T05:57:39.151190Z"
    },
    "papermill": {
     "duration": 0.530854,
     "end_time": "2022-07-04T07:04:23.468920",
     "exception": false,
     "start_time": "2022-07-04T07:04:22.938066",
     "status": "completed"
    },
    "tags": []
   },
   "outputs": [
    {
     "data": {
      "text/html": [
       "<div>\n",
       "<style scoped>\n",
       "    .dataframe tbody tr th:only-of-type {\n",
       "        vertical-align: middle;\n",
       "    }\n",
       "\n",
       "    .dataframe tbody tr th {\n",
       "        vertical-align: top;\n",
       "    }\n",
       "\n",
       "    .dataframe thead th {\n",
       "        text-align: right;\n",
       "    }\n",
       "</style>\n",
       "<table border=\"1\" class=\"dataframe\">\n",
       "  <thead>\n",
       "    <tr style=\"text-align: right;\">\n",
       "      <th></th>\n",
       "      <th>sentiment</th>\n",
       "      <th>text</th>\n",
       "    </tr>\n",
       "  </thead>\n",
       "  <tbody>\n",
       "    <tr>\n",
       "      <th>0</th>\n",
       "      <td>Negative</td>\n",
       "      <td>@switchfoot http://twitpic.com/2y1zl - Awww, t...</td>\n",
       "    </tr>\n",
       "    <tr>\n",
       "      <th>1</th>\n",
       "      <td>Negative</td>\n",
       "      <td>is upset that he can't update his Facebook by ...</td>\n",
       "    </tr>\n",
       "    <tr>\n",
       "      <th>2</th>\n",
       "      <td>Negative</td>\n",
       "      <td>@Kenichan I dived many times for the ball. Man...</td>\n",
       "    </tr>\n",
       "    <tr>\n",
       "      <th>3</th>\n",
       "      <td>Negative</td>\n",
       "      <td>my whole body feels itchy and like its on fire</td>\n",
       "    </tr>\n",
       "    <tr>\n",
       "      <th>4</th>\n",
       "      <td>Negative</td>\n",
       "      <td>@nationwideclass no, it's not behaving at all....</td>\n",
       "    </tr>\n",
       "  </tbody>\n",
       "</table>\n",
       "</div>"
      ],
      "text/plain": [
       "  sentiment                                               text\n",
       "0  Negative  @switchfoot http://twitpic.com/2y1zl - Awww, t...\n",
       "1  Negative  is upset that he can't update his Facebook by ...\n",
       "2  Negative  @Kenichan I dived many times for the ball. Man...\n",
       "3  Negative    my whole body feels itchy and like its on fire \n",
       "4  Negative  @nationwideclass no, it's not behaving at all...."
      ]
     },
     "execution_count": 7,
     "metadata": {},
     "output_type": "execute_result"
    }
   ],
   "source": [
    "lab_to_sentiment = {0:\"Negative\", 4:\"Positive\"}\n",
    "def label_decoder(label):\n",
    "  return lab_to_sentiment[label]\n",
    "df.sentiment = df.sentiment.apply(lambda x: label_decoder(x))\n",
    "df.head()"
   ]
  },
  {
   "cell_type": "markdown",
   "metadata": {
    "papermill": {
     "duration": 0.032834,
     "end_time": "2022-07-04T07:04:23.535941",
     "exception": false,
     "start_time": "2022-07-04T07:04:23.503107",
     "status": "completed"
    },
    "tags": []
   },
   "source": [
    "Here are decoding the labels. We map **0 -> Negative and 4 -> Positive** as directed by the datset desciption. Now that we decoded we shall now analyse the dataset by its distribution. Because it's important that we have almost small amount of examples for given classes."
   ]
  },
  {
   "cell_type": "code",
   "execution_count": 8,
   "metadata": {
    "execution": {
     "iopub.execute_input": "2022-07-04T05:57:44.663909Z",
     "iopub.status.busy": "2022-07-04T05:57:44.663537Z",
     "iopub.status.idle": "2022-07-04T05:57:45.076542Z",
     "shell.execute_reply": "2022-07-04T05:57:45.075632Z",
     "shell.execute_reply.started": "2022-07-04T05:57:44.663859Z"
    },
    "papermill": {
     "duration": 0.448263,
     "end_time": "2022-07-04T07:04:24.017032",
     "exception": false,
     "start_time": "2022-07-04T07:04:23.568769",
     "status": "completed"
    },
    "tags": []
   },
   "outputs": [
    {
     "data": {
      "text/plain": [
       "Text(0.5, 1.0, 'Sentiment Data Distribution')"
      ]
     },
     "execution_count": 8,
     "metadata": {},
     "output_type": "execute_result"
    },
    {
     "data": {
      "image/png": "[encoded data removed]",
      "text/plain": [
       "<Figure size 800x400 with 1 Axes>"
      ]
     },
     "metadata": {},
     "output_type": "display_data"
    }
   ],
   "source": [
    "val_count = df.sentiment.value_counts()\n",
    "\n",
    "plt.figure(figsize=(8,4))\n",
    "plt.bar(val_count.index, val_count.values)\n",
    "plt.title(\"Sentiment Data Distribution\")"
   ]
  },
  {
   "cell_type": "markdown",
   "metadata": {
    "papermill": {
     "duration": 0.033602,
     "end_time": "2022-07-04T07:04:24.086605",
     "exception": false,
     "start_time": "2022-07-04T07:04:24.053003",
     "status": "completed"
    },
    "tags": []
   },
   "source": [
    "It's a very good dataset without any skewness. Thank Goodness.\n",
    "\n",
    "Now let us explore the data we having here... "
   ]
  },
  {
   "cell_type": "code",
   "execution_count": 9,
   "metadata": {
    "execution": {
     "iopub.execute_input": "2022-07-04T05:57:49.564595Z",
     "iopub.status.busy": "2022-07-04T05:57:49.564246Z",
     "iopub.status.idle": "2022-07-04T05:57:49.695382Z",
     "shell.execute_reply": "2022-07-04T05:57:49.694652Z",
     "shell.execute_reply.started": "2022-07-04T05:57:49.564544Z"
    },
    "papermill": {
     "duration": 0.164742,
     "end_time": "2022-07-04T07:04:24.285110",
     "exception": false,
     "start_time": "2022-07-04T07:04:24.120368",
     "status": "completed"
    },
    "tags": []
   },
   "outputs": [
    {
     "data": {
      "text/html": [
       "<div>\n",
       "<style scoped>\n",
       "    .dataframe tbody tr th:only-of-type {\n",
       "        vertical-align: middle;\n",
       "    }\n",
       "\n",
       "    .dataframe tbody tr th {\n",
       "        vertical-align: top;\n",
       "    }\n",
       "\n",
       "    .dataframe thead th {\n",
       "        text-align: right;\n",
       "    }\n",
       "</style>\n",
       "<table border=\"1\" class=\"dataframe\">\n",
       "  <thead>\n",
       "    <tr style=\"text-align: right;\">\n",
       "      <th></th>\n",
       "      <th>sentiment</th>\n",
       "      <th>text</th>\n",
       "    </tr>\n",
       "  </thead>\n",
       "  <tbody>\n",
       "    <tr>\n",
       "      <th>24224</th>\n",
       "      <td>Negative</td>\n",
       "      <td>I want to go shopping. but, first of all, I do...</td>\n",
       "    </tr>\n",
       "    <tr>\n",
       "      <th>219393</th>\n",
       "      <td>Negative</td>\n",
       "      <td>i can't take me eyes of you</td>\n",
       "    </tr>\n",
       "    <tr>\n",
       "      <th>306773</th>\n",
       "      <td>Negative</td>\n",
       "      <td>am i going to have to travel overseas now? i s...</td>\n",
       "    </tr>\n",
       "    <tr>\n",
       "      <th>340881</th>\n",
       "      <td>Negative</td>\n",
       "      <td>#Happyshooting ist down.</td>\n",
       "    </tr>\n",
       "    <tr>\n",
       "      <th>498169</th>\n",
       "      <td>Negative</td>\n",
       "      <td>love is so complicated. everything just went w...</td>\n",
       "    </tr>\n",
       "    <tr>\n",
       "      <th>1253678</th>\n",
       "      <td>Positive</td>\n",
       "      <td>#musicmonday 6 months by @heymonday is another...</td>\n",
       "    </tr>\n",
       "    <tr>\n",
       "      <th>918711</th>\n",
       "      <td>Positive</td>\n",
       "      <td>Happy Mother's Day to all Mothers out there</td>\n",
       "    </tr>\n",
       "    <tr>\n",
       "      <th>1584870</th>\n",
       "      <td>Positive</td>\n",
       "      <td>@chloestreetxox Ha! I don't think I will, but ...</td>\n",
       "    </tr>\n",
       "    <tr>\n",
       "      <th>728553</th>\n",
       "      <td>Negative</td>\n",
       "      <td>HAPPY FATHER'SDAY TO ALL FATHERS OUT THERE!Hap...</td>\n",
       "    </tr>\n",
       "    <tr>\n",
       "      <th>625645</th>\n",
       "      <td>Negative</td>\n",
       "      <td>The elite 4 stole my ideas for pokemon teams...</td>\n",
       "    </tr>\n",
       "  </tbody>\n",
       "</table>\n",
       "</div>"
      ],
      "text/plain": [
       "        sentiment                                               text\n",
       "24224    Negative  I want to go shopping. but, first of all, I do...\n",
       "219393   Negative                       i can't take me eyes of you \n",
       "306773   Negative  am i going to have to travel overseas now? i s...\n",
       "340881   Negative                          #Happyshooting ist down. \n",
       "498169   Negative  love is so complicated. everything just went w...\n",
       "1253678  Positive  #musicmonday 6 months by @heymonday is another...\n",
       "918711   Positive       Happy Mother's Day to all Mothers out there \n",
       "1584870  Positive  @chloestreetxox Ha! I don't think I will, but ...\n",
       "728553   Negative  HAPPY FATHER'SDAY TO ALL FATHERS OUT THERE!Hap...\n",
       "625645   Negative   The elite 4 stole my ideas for pokemon teams... "
      ]
     },
     "execution_count": 9,
     "metadata": {},
     "output_type": "execute_result"
    }
   ],
   "source": [
    "import random\n",
    "random_idx_list = [random.randint(1,len(df.text)) for i in range(10)] # creates random indexes to choose from dataframe\n",
    "df.loc[random_idx_list,:].head(10) # Returns the rows with the index and display it"
   ]
  },
  {
   "cell_type": "markdown",
   "metadata": {
    "papermill": {
     "duration": 0.034809,
     "end_time": "2022-07-04T07:04:24.354837",
     "exception": false,
     "start_time": "2022-07-04T07:04:24.320028",
     "status": "completed"
    },
    "tags": []
   },
   "source": [
    "Looks like we have a nasty data in text. Because in general we use lot of punctuations and other words without any contextual meaning. It have no value as feature to the model we are training. So we need to get rid of them.\n",
    "\n",
    "# Text Preprocessing\n",
    "Tweet texts often consists of other user mentions, hyperlink texts, emoticons and punctuations. In order to use them for learning using a Language Model. We cannot permit those texts for training a model. So we have to clean the text data using various preprocessing and cleansing methods. Let's continue\n",
    "![Data Science Meme](https://miro.medium.com/max/800/1*Xhm9c9qDfXa3ZCQjiOvm_w.jpeg)\n"
   ]
  },
  {
   "cell_type": "markdown",
   "metadata": {
    "papermill": {
     "duration": 0.034427,
     "end_time": "2022-07-04T07:04:24.423586",
     "exception": false,
     "start_time": "2022-07-04T07:04:24.389159",
     "status": "completed"
    },
    "tags": []
   },
   "source": [
    "### Stemming/ Lematization\n",
    "For grammatical reasons, documents are going to use different forms of a word, such as *write, writing and writes.* Additionally, there are families of derivationally related words with similar meanings. The goal of both stemming and lemmatization is to reduce inflectional forms and sometimes derivationally related forms of a word to a common base form.\n",
    "\n",
    "Stemming usually refers to a process that chops off the ends of words in the hope of achieving goal correctly most of the time and often includes the removal of derivational affixes. \n",
    "\n",
    "Lemmatization usually refers to doing things properly with the use of a vocabulary and morphological analysis of words, normally aiming to remove inflectional endings only and to return the base and dictionary form of a word\n",
    "![Stemming and Lematization](https://qph.fs.quoracdn.net/main-qimg-cd7f4bafaa42639deb999b1580bea69f)\n",
    "\n",
    "### Hyperlinks and Mentions\n",
    "Twitter is a social media platform where people can tag and mentions other people's ID and share videos and blogs from internet. So the tweets often contain lots of Hyperlinks and twitter mentions.\n",
    "\n",
    "- Twitter User Mentions - Eg. @arunrk7, @andrewng\n",
    "- Hyperlinks - Eg. https://keras.io, https://tensorflow.org\n",
    "\n",
    "### Stopwords\n",
    "Stopwords are commonly used words in English which have no contextual meaning in an sentence. So therefore we remove them before classification. Some stopwords are...\n",
    "![Stopwords English](https://4.bp.blogspot.com/-yiEr-jCVv38/Wmk10d84DYI/AAAAAAAAk0o/IfgjfjpgrxM5NosUQrGw7PtLvgr6DAG8ACLcBGAs/s1600/Screen%2BShot%2B2018-01-24%2Bat%2B5.41.21%2BPM.png)\n",
    "\n",
    "That looks like a tedious process, isn't?. Don't worry there is always some library in Python to do almost any work. The world is great!!!\n",
    "\n",
    "**NLTK** is a python library which got functions to perform text processing task for NLP.\n",
    "\n"
   ]
  },
  {
   "cell_type": "code",
   "execution_count": 10,
   "metadata": {
    "execution": {
     "iopub.execute_input": "2022-07-04T05:58:17.513782Z",
     "iopub.status.busy": "2022-07-04T05:58:17.513410Z",
     "iopub.status.idle": "2022-07-04T05:58:17.518629Z",
     "shell.execute_reply": "2022-07-04T05:58:17.517471Z",
     "shell.execute_reply.started": "2022-07-04T05:58:17.513725Z"
    },
    "papermill": {
     "duration": 0.043254,
     "end_time": "2022-07-04T07:04:24.501124",
     "exception": false,
     "start_time": "2022-07-04T07:04:24.457870",
     "status": "completed"
    },
    "tags": []
   },
   "outputs": [],
   "source": [
    "stop_words = stopwords.words('english')\n",
    "stemmer = SnowballStemmer('english')\n",
    "\n",
    "text_cleaning_re = \"@\\S+|https?:\\S+|http?:\\S|[^A-Za-z0-9]+\""
   ]
  },
  {
   "cell_type": "code",
   "execution_count": 11,
   "metadata": {
    "execution": {
     "iopub.execute_input": "2022-07-04T05:58:24.067066Z",
     "iopub.status.busy": "2022-07-04T05:58:24.066653Z",
     "iopub.status.idle": "2022-07-04T05:58:24.073153Z",
     "shell.execute_reply": "2022-07-04T05:58:24.072306Z",
     "shell.execute_reply.started": "2022-07-04T05:58:24.067014Z"
    },
    "papermill": {
     "duration": 0.043441,
     "end_time": "2022-07-04T07:04:24.579473",
     "exception": false,
     "start_time": "2022-07-04T07:04:24.536032",
     "status": "completed"
    },
    "tags": []
   },
   "outputs": [],
   "source": [
    "def preprocess(text, stem=False):\n",
    "  text = re.sub(text_cleaning_re, ' ', str(text).lower()).strip()\n",
    "  tokens = []\n",
    "  for token in text.split():\n",
    "    if token not in stop_words:\n",
    "      if stem:\n",
    "        tokens.append(stemmer.stem(token))\n",
    "      else:\n",
    "        tokens.append(token)\n",
    "  return \" \".join(tokens)"
   ]
  },
  {
   "cell_type": "code",
   "execution_count": 12,
   "metadata": {
    "execution": {
     "iopub.execute_input": "2022-07-04T05:58:27.609041Z",
     "iopub.status.busy": "2022-07-04T05:58:27.608653Z",
     "iopub.status.idle": "2022-07-04T05:59:31.236089Z",
     "shell.execute_reply": "2022-07-04T05:59:31.235245Z",
     "shell.execute_reply.started": "2022-07-04T05:58:27.608989Z"
    },
    "papermill": {
     "duration": 62.788507,
     "end_time": "2022-07-04T07:05:27.413335",
     "exception": false,
     "start_time": "2022-07-04T07:04:24.624828",
     "status": "completed"
    },
    "tags": []
   },
   "outputs": [],
   "source": [
    "df.text = df.text.apply(lambda x: preprocess(x))"
   ]
  },
  {
   "cell_type": "markdown",
   "metadata": {
    "papermill": {
     "duration": 0.073198,
     "end_time": "2022-07-04T07:07:19.800547",
     "exception": false,
     "start_time": "2022-07-04T07:07:19.727349",
     "status": "completed"
    },
    "tags": []
   },
   "source": [
    "## Train and Test Split"
   ]
  },
  {
   "cell_type": "code",
   "execution_count": 13,
   "metadata": {
    "execution": {
     "iopub.execute_input": "2022-07-04T06:04:39.508985Z",
     "iopub.status.busy": "2022-07-04T06:04:39.508594Z",
     "iopub.status.idle": "2022-07-04T06:04:39.515209Z",
     "shell.execute_reply": "2022-07-04T06:04:39.514404Z",
     "shell.execute_reply.started": "2022-07-04T06:04:39.508932Z"
    },
    "papermill": {
     "duration": 0.083337,
     "end_time": "2022-07-04T07:07:19.958827",
     "exception": false,
     "start_time": "2022-07-04T07:07:19.875490",
     "status": "completed"
    },
    "tags": []
   },
   "outputs": [],
   "source": [
    "TRAIN_SIZE = 0.8\n",
    "MAX_NB_WORDS = 100000\n",
    "MAX_SEQUENCE_LENGTH = 30"
   ]
  },
  {
   "cell_type": "code",
   "execution_count": 14,
   "metadata": {
    "execution": {
     "iopub.execute_input": "2022-07-04T06:04:44.890044Z",
     "iopub.status.busy": "2022-07-04T06:04:44.889671Z",
     "iopub.status.idle": "2022-07-04T06:04:45.306249Z",
     "shell.execute_reply": "2022-07-04T06:04:45.305491Z",
     "shell.execute_reply.started": "2022-07-04T06:04:44.889993Z"
    },
    "papermill": {
     "duration": 0.478857,
     "end_time": "2022-07-04T07:07:20.510031",
     "exception": false,
     "start_time": "2022-07-04T07:07:20.031174",
     "status": "completed"
    },
    "tags": []
   },
   "outputs": [
    {
     "name": "stdout",
     "output_type": "stream",
     "text": [
      "Train Data size: 1280000\n",
      "Test Data size 320000\n"
     ]
    }
   ],
   "source": [
    "train_data, test_data = train_test_split(df, test_size=1-TRAIN_SIZE,\n",
    "                                         random_state=7) # Splits Dataset into Training and Testing set\n",
    "print(\"Train Data size:\", len(train_data))\n",
    "print(\"Test Data size\", len(test_data))"
   ]
  },
  {
   "cell_type": "code",
   "execution_count": 15,
   "metadata": {
    "execution": {
     "iopub.execute_input": "2022-07-04T06:05:08.657536Z",
     "iopub.status.busy": "2022-07-04T06:05:08.657197Z",
     "iopub.status.idle": "2022-07-04T06:05:08.668451Z",
     "shell.execute_reply": "2022-07-04T06:05:08.667489Z",
     "shell.execute_reply.started": "2022-07-04T06:05:08.657486Z"
    },
    "papermill": {
     "duration": 0.088049,
     "end_time": "2022-07-04T07:07:20.820112",
     "exception": false,
     "start_time": "2022-07-04T07:07:20.732063",
     "status": "completed"
    },
    "tags": []
   },
   "outputs": [
    {
     "data": {
      "text/html": [
       "<div>\n",
       "<style scoped>\n",
       "    .dataframe tbody tr th:only-of-type {\n",
       "        vertical-align: middle;\n",
       "    }\n",
       "\n",
       "    .dataframe tbody tr th {\n",
       "        vertical-align: top;\n",
       "    }\n",
       "\n",
       "    .dataframe thead th {\n",
       "        text-align: right;\n",
       "    }\n",
       "</style>\n",
       "<table border=\"1\" class=\"dataframe\">\n",
       "  <thead>\n",
       "    <tr style=\"text-align: right;\">\n",
       "      <th></th>\n",
       "      <th>sentiment</th>\n",
       "      <th>text</th>\n",
       "    </tr>\n",
       "  </thead>\n",
       "  <tbody>\n",
       "    <tr>\n",
       "      <th>23786</th>\n",
       "      <td>Negative</td>\n",
       "      <td>need friends</td>\n",
       "    </tr>\n",
       "    <tr>\n",
       "      <th>182699</th>\n",
       "      <td>Negative</td>\n",
       "      <td>im trying call impossible</td>\n",
       "    </tr>\n",
       "    <tr>\n",
       "      <th>476661</th>\n",
       "      <td>Negative</td>\n",
       "      <td>good pace going 3k 13 min missed 5k turn ended...</td>\n",
       "    </tr>\n",
       "    <tr>\n",
       "      <th>1181490</th>\n",
       "      <td>Positive</td>\n",
       "      <td>u gonna shows ny soon luv see u live</td>\n",
       "    </tr>\n",
       "    <tr>\n",
       "      <th>878773</th>\n",
       "      <td>Positive</td>\n",
       "      <td>hell yea get em tattoos ink free wish parents ...</td>\n",
       "    </tr>\n",
       "    <tr>\n",
       "      <th>130866</th>\n",
       "      <td>Negative</td>\n",
       "      <td>yeah need 2 see ur mom calls back first rememb...</td>\n",
       "    </tr>\n",
       "    <tr>\n",
       "      <th>1235876</th>\n",
       "      <td>Positive</td>\n",
       "      <td>sounds like cup tea sign</td>\n",
       "    </tr>\n",
       "    <tr>\n",
       "      <th>717314</th>\n",
       "      <td>Negative</td>\n",
       "      <td>tired want sleep wtf</td>\n",
       "    </tr>\n",
       "    <tr>\n",
       "      <th>969880</th>\n",
       "      <td>Positive</td>\n",
       "      <td>amazing wish</td>\n",
       "    </tr>\n",
       "    <tr>\n",
       "      <th>748698</th>\n",
       "      <td>Negative</td>\n",
       "      <td>thank god wkrn abc affiliate nashville back mi...</td>\n",
       "    </tr>\n",
       "  </tbody>\n",
       "</table>\n",
       "</div>"
      ],
      "text/plain": [
       "        sentiment                                               text\n",
       "23786    Negative                                       need friends\n",
       "182699   Negative                          im trying call impossible\n",
       "476661   Negative  good pace going 3k 13 min missed 5k turn ended...\n",
       "1181490  Positive               u gonna shows ny soon luv see u live\n",
       "878773   Positive  hell yea get em tattoos ink free wish parents ...\n",
       "130866   Negative  yeah need 2 see ur mom calls back first rememb...\n",
       "1235876  Positive                           sounds like cup tea sign\n",
       "717314   Negative                               tired want sleep wtf\n",
       "969880   Positive                                       amazing wish\n",
       "748698   Negative  thank god wkrn abc affiliate nashville back mi..."
      ]
     },
     "execution_count": 15,
     "metadata": {},
     "output_type": "execute_result"
    }
   ],
   "source": [
    "train_data.head(10)"
   ]
  },
  {
   "cell_type": "markdown",
   "metadata": {
    "papermill": {
     "duration": 0.072595,
     "end_time": "2022-07-04T07:07:20.965436",
     "exception": false,
     "start_time": "2022-07-04T07:07:20.892841",
     "status": "completed"
    },
    "tags": []
   },
   "source": [
    "# Tokenization\n",
    "Given a character sequence and a defined document unit, tokenization is the task of chopping it up into pieces, called *tokens* , perhaps at the same time throwing away certain characters, such as punctuation. The process is called **Tokenization.**\n",
    "![Tokenization](https://cdn.analyticsvidhya.com/wp-content/uploads/2019/11/tokenization.png)\n",
    "\n",
    "`tokenizer` create tokens for every word in the data corpus and map them to a index using dictionary.\n",
    "\n",
    "`word_index` contains the index for each word\n",
    "\n",
    "`vocab_size` represents the total number of word in the data corpus"
   ]
  },
  {
   "cell_type": "code",
   "execution_count": 16,
   "metadata": {
    "execution": {
     "iopub.execute_input": "2022-07-04T06:05:16.391521Z",
     "iopub.status.busy": "2022-07-04T06:05:16.391186Z",
     "iopub.status.idle": "2022-07-04T06:05:38.066762Z",
     "shell.execute_reply": "2022-07-04T06:05:38.065843Z",
     "shell.execute_reply.started": "2022-07-04T06:05:16.391472Z"
    },
    "papermill": {
     "duration": 21.675821,
     "end_time": "2022-07-04T07:07:42.715517",
     "exception": false,
     "start_time": "2022-07-04T07:07:21.039696",
     "status": "completed"
    },
    "tags": []
   },
   "outputs": [
    {
     "name": "stdout",
     "output_type": "stream",
     "text": [
      "Vocabulary Size : 290575\n"
     ]
    }
   ],
   "source": [
    "from tensorflow.keras.preprocessing.text import Tokenizer\n",
    "\n",
    "tokenizer = Tokenizer()\n",
    "tokenizer.fit_on_texts(train_data.text)\n",
    "\n",
    "word_index = tokenizer.word_index\n",
    "vocab_size = len(tokenizer.word_index) + 1\n",
    "print(\"Vocabulary Size :\", vocab_size)"
   ]
  },
  {
   "cell_type": "markdown",
   "metadata": {
    "papermill": {
     "duration": 0.073542,
     "end_time": "2022-07-04T07:07:42.863654",
     "exception": false,
     "start_time": "2022-07-04T07:07:42.790112",
     "status": "completed"
    },
    "tags": []
   },
   "source": [
    "Now we got a `tokenizer` object, which can be used to covert any word into a Key in dictionary (number).\n",
    "\n",
    "Since we are going to build a sequence model. We should feed in a sequence of numbers to it. And also we should ensure there is no variance in input shapes of sequences. It all should be of same lenght. But texts in tweets have different count of words in it. To avoid this, we seek a little help from `pad_sequence` to do our job. It will make all the sequence in one constant length `MAX_SEQUENCE_LENGTH`."
   ]
  },
  {
   "cell_type": "code",
   "execution_count": 17,
   "metadata": {
    "execution": {
     "iopub.execute_input": "2022-07-04T06:05:58.633496Z",
     "iopub.status.busy": "2022-07-04T06:05:58.633166Z",
     "iopub.status.idle": "2022-07-04T06:06:33.442407Z",
     "shell.execute_reply": "2022-07-04T06:06:33.441504Z",
     "shell.execute_reply.started": "2022-07-04T06:05:58.633446Z"
    },
    "papermill": {
     "duration": 34.827131,
     "end_time": "2022-07-04T07:08:17.764159",
     "exception": false,
     "start_time": "2022-07-04T07:07:42.937028",
     "status": "completed"
    },
    "tags": []
   },
   "outputs": [
    {
     "name": "stdout",
     "output_type": "stream",
     "text": [
      "Training X Shape: (1280000, 30)\n",
      "Testing X Shape: (320000, 30)\n"
     ]
    }
   ],
   "source": [
    "from tensorflow.keras.preprocessing.sequence import pad_sequences\n",
    "\n",
    "x_train = pad_sequences(tokenizer.texts_to_sequences(train_data.text),\n",
    "                        maxlen = MAX_SEQUENCE_LENGTH)\n",
    "x_test = pad_sequences(tokenizer.texts_to_sequences(test_data.text),\n",
    "                       maxlen = MAX_SEQUENCE_LENGTH)\n",
    "\n",
    "print(\"Training X Shape:\",x_train.shape)\n",
    "print(\"Testing X Shape:\",x_test.shape)"
   ]
  },
  {
   "cell_type": "code",
   "execution_count": 18,
   "metadata": {
    "execution": {
     "iopub.execute_input": "2022-07-04T06:07:33.365001Z",
     "iopub.status.busy": "2022-07-04T06:07:33.364620Z",
     "iopub.status.idle": "2022-07-04T06:07:33.372348Z",
     "shell.execute_reply": "2022-07-04T06:07:33.371466Z",
     "shell.execute_reply.started": "2022-07-04T06:07:33.364948Z"
    },
    "papermill": {
     "duration": 0.090462,
     "end_time": "2022-07-04T07:08:17.930230",
     "exception": false,
     "start_time": "2022-07-04T07:08:17.839768",
     "status": "completed"
    },
    "tags": []
   },
   "outputs": [
    {
     "data": {
      "text/plain": [
       "array([[   0,    0,    0, ...,    0,   34,  110],\n",
       "       [   0,    0,    0, ...,  133,  220, 2319],\n",
       "       [   0,    0,    0, ..., 5649, 9960, 1060],\n",
       "       ...,\n",
       "       [   0,    0,    0, ...,  118, 1157,  687],\n",
       "       [   0,    0,    0, ...,    1,  247,  107],\n",
       "       [   0,    0,    0, ...,  665, 1308, 1868]], dtype=int32)"
      ]
     },
     "execution_count": 18,
     "metadata": {},
     "output_type": "execute_result"
    }
   ],
   "source": [
    "x_train"
   ]
  },
  {
   "cell_type": "code",
   "execution_count": 19,
   "metadata": {
    "execution": {
     "iopub.execute_input": "2022-07-04T06:07:46.601524Z",
     "iopub.status.busy": "2022-07-04T06:07:46.601185Z",
     "iopub.status.idle": "2022-07-04T06:07:46.666588Z",
     "shell.execute_reply": "2022-07-04T06:07:46.665854Z",
     "shell.execute_reply.started": "2022-07-04T06:07:46.601471Z"
    },
    "papermill": {
     "duration": 0.147161,
     "end_time": "2022-07-04T07:08:18.151714",
     "exception": false,
     "start_time": "2022-07-04T07:08:18.004553",
     "status": "completed"
    },
    "tags": []
   },
   "outputs": [],
   "source": [
    "labels = train_data.sentiment.unique().tolist()"
   ]
  },
  {
   "cell_type": "markdown",
   "metadata": {
    "papermill": {
     "duration": 0.073214,
     "end_time": "2022-07-04T07:08:18.299173",
     "exception": false,
     "start_time": "2022-07-04T07:08:18.225959",
     "status": "completed"
    },
    "tags": []
   },
   "source": [
    "### Label Encoding \n",
    "We are building the model to predict class in enocoded form (0 or 1 as this is a binary classification). We should encode our training labels to encodings."
   ]
  },
  {
   "cell_type": "code",
   "execution_count": 20,
   "metadata": {
    "execution": {
     "iopub.execute_input": "2022-07-04T06:07:51.750409Z",
     "iopub.status.busy": "2022-07-04T06:07:51.750064Z",
     "iopub.status.idle": "2022-07-04T06:07:52.960552Z",
     "shell.execute_reply": "2022-07-04T06:07:52.959698Z",
     "shell.execute_reply.started": "2022-07-04T06:07:51.750356Z"
    },
    "papermill": {
     "duration": 1.300506,
     "end_time": "2022-07-04T07:08:19.674459",
     "exception": false,
     "start_time": "2022-07-04T07:08:18.373953",
     "status": "completed"
    },
    "tags": []
   },
   "outputs": [
    {
     "name": "stdout",
     "output_type": "stream",
     "text": [
      "y_train shape: (1280000, 1)\n",
      "y_test shape: (320000, 1)\n"
     ]
    }
   ],
   "source": [
    "encoder = LabelEncoder()\n",
    "encoder.fit(train_data.sentiment.to_list())\n",
    "\n",
    "y_train = encoder.transform(train_data.sentiment.to_list())\n",
    "y_test = encoder.transform(test_data.sentiment.to_list())\n",
    "\n",
    "y_train = y_train.reshape(-1,1)\n",
    "y_test = y_test.reshape(-1,1)\n",
    "\n",
    "print(\"y_train shape:\", y_train.shape)\n",
    "print(\"y_test shape:\", y_test.shape)"
   ]
  },
  {
   "cell_type": "markdown",
   "metadata": {
    "papermill": {
     "duration": 0.099131,
     "end_time": "2022-07-04T07:08:20.029630",
     "exception": false,
     "start_time": "2022-07-04T07:08:19.930499",
     "status": "completed"
    },
    "tags": []
   },
   "source": [
    "# Word Emdedding\n",
    "In Language Model, words are represented in a way to intend more meaning and for learning the patterns and contextual meaning behind it. \n",
    "\n",
    "**Word Embedding** is one of the popular representation of document vocabulary.It is capable of capturing context of a word in a document, semantic and syntactic similarity, relation with other words, etc.\n",
    "\n",
    "Basically, it's a feature vector representation of words which are used for other natural language processing applications.\n",
    "\n",
    "We could train the embedding ourselves but that would take a while to train and it wouldn't be effective. So going in the path of Computer Vision, here we use **Transfer Learning**. We download the pre-trained embedding and use it in our model.\n",
    "\n",
    "The pretrained Word Embedding like **GloVe & Word2Vec** gives more insights for a word which can be used for classification. If you want to learn more about the Word Embedding, please refer some links that I left at the end of this notebook.\n",
    "\n",
    "\n",
    "In this notebook, I use **GloVe Embedding from Stanford AI** which can be found [here](https://nlp.stanford.edu/projects/glove/)"
   ]
  },
  {
   "cell_type": "code",
   "execution_count": 32,
   "metadata": {
    "papermill": {
     "duration": 1.1011,
     "end_time": "2022-07-04T07:11:24.830625",
     "exception": false,
     "start_time": "2022-07-04T07:11:23.729525",
     "status": "completed"
    },
    "tags": []
   },
   "outputs": [],
   "source": [
    "GLOVE_EMB = './glove/glove.6B.300d.txt'\n",
    "EMBEDDING_DIM = 300\n",
    "LR = 1e-3\n",
    "BATCH_SIZE = 512\n",
    "EPOCHS = 5"
   ]
  },
  {
   "cell_type": "code",
   "execution_count": 22,
   "metadata": {
    "papermill": {
     "duration": 46.794122,
     "end_time": "2022-07-04T07:12:11.920088",
     "exception": false,
     "start_time": "2022-07-04T07:11:25.125966",
     "status": "completed"
    },
    "tags": []
   },
   "outputs": [
    {
     "name": "stdout",
     "output_type": "stream",
     "text": [
      "Found 400000 word vectors.\n"
     ]
    }
   ],
   "source": [
    "embeddings_index = {}\n",
    "\n",
    "f = open(GLOVE_EMB)\n",
    "for line in f:\n",
    "  values = line.split()\n",
    "  word = value = values[0]\n",
    "  coefs = np.asarray(values[1:], dtype='float32')\n",
    "  embeddings_index[word] = coefs\n",
    "f.close()\n",
    "\n",
    "print('Found %s word vectors.' %len(embeddings_index))"
   ]
  },
  {
   "cell_type": "code",
   "execution_count": 23,
   "metadata": {
    "papermill": {
     "duration": 0.802395,
     "end_time": "2022-07-04T07:12:13.020080",
     "exception": false,
     "start_time": "2022-07-04T07:12:12.217685",
     "status": "completed"
    },
    "tags": []
   },
   "outputs": [],
   "source": [
    "embedding_matrix = np.zeros((vocab_size, EMBEDDING_DIM))\n",
    "for word, i in word_index.items():\n",
    "  embedding_vector = embeddings_index.get(word)\n",
    "  if embedding_vector is not None:\n",
    "    embedding_matrix[i] = embedding_vector"
   ]
  },
  {
   "cell_type": "code",
   "execution_count": 24,
   "metadata": {
    "papermill": {
     "duration": 0.322275,
     "end_time": "2022-07-04T07:12:13.637793",
     "exception": false,
     "start_time": "2022-07-04T07:12:13.315518",
     "status": "completed"
    },
    "tags": []
   },
   "outputs": [
    {
     "name": "stderr",
     "output_type": "stream",
     "text": [
      "/Users/mymac/miniforge3/envs/501r/lib/python3.10/site-packages/keras/src/layers/core/embedding.py:90: UserWarning: Argument `input_length` is deprecated. Just remove it.\n",
      "  warnings.warn(\n",
      "2024-09-06 11:13:25.223836: I metal_plugin/src/device/metal_device.cc:1154] Metal device set to: Apple M1 Pro\n",
      "2024-09-06 11:13:25.223861: I metal_plugin/src/device/metal_device.cc:296] systemMemory: 32.00 GB\n",
      "2024-09-06 11:13:25.223864: I metal_plugin/src/device/metal_device.cc:313] maxCacheSize: 10.67 GB\n",
      "2024-09-06 11:13:25.223878: I tensorflow/core/common_runtime/pluggable_device/pluggable_device_factory.cc:305] Could not identify NUMA node of platform GPU ID 0, defaulting to 0. Your kernel may not have been built with NUMA support.\n",
      "2024-09-06 11:13:25.223888: I tensorflow/core/common_runtime/pluggable_device/pluggable_device_factory.cc:271] Created TensorFlow device (/job:localhost/replica:0/task:0/device:GPU:0 with 0 MB memory) -> physical PluggableDevice (device: 0, name: METAL, pci bus id: <undefined>)\n"
     ]
    }
   ],
   "source": [
    "embedding_layer = tf.keras.layers.Embedding(vocab_size,\n",
    "                                          EMBEDDING_DIM,\n",
    "                                          weights=[embedding_matrix],\n",
    "                                          input_length=MAX_SEQUENCE_LENGTH,\n",
    "                                          trainable=False)"
   ]
  },
  {
   "cell_type": "markdown",
   "metadata": {
    "papermill": {
     "duration": 0.293488,
     "end_time": "2022-07-04T07:12:14.223176",
     "exception": false,
     "start_time": "2022-07-04T07:12:13.929688",
     "status": "completed"
    },
    "tags": []
   },
   "source": [
    "# Model Training - LSTM\n",
    "We are clear to build our Deep Learning model. While developing a DL model, we should keep in mind of key things like Model Architecture, Hyperparmeter Tuning and Performance of the model.\n",
    "\n",
    "As you can see in the word cloud, the some words are predominantly feature in both Positive and Negative tweets. This could be a problem if we are using a Machine Learning model like Naive Bayes, SVD, etc.. That's why we use **Sequence Models**.\n",
    "\n",
    "### Sequence Model\n",
    "![Sequence Model](https://miro.medium.com/max/1458/1*SICYykT7ybua1gVJDNlajw.png)\n",
    "\n",
    "Reccurent Neural Networks can handle a seqence of data and learn a pattern of input seqence to give either sequence or scalar value as output. In our case, the Neural Network outputs a scalar value prediction. \n",
    "\n",
    "For model architecture, we use\n",
    "\n",
    "1) **Embedding Layer** - Generates Embedding Vector for each input sequence.\n",
    "\n",
    "2) **Conv1D Layer** - Its using to convolve data into smaller feature vectors. \n",
    "\n",
    "3) **LSTM** - Long Short Term Memory, its a variant of RNN which has memory state cell to learn the context of words which are at further along the text to carry contextual meaning rather than just neighbouring words as in case of RNN.\n",
    "\n",
    "4) **Dense** - Fully Connected Layers for classification\n"
   ]
  },
  {
   "cell_type": "code",
   "execution_count": 25,
   "metadata": {
    "papermill": {
     "duration": 0.319197,
     "end_time": "2022-07-04T07:12:14.835424",
     "exception": false,
     "start_time": "2022-07-04T07:12:14.516227",
     "status": "completed"
    },
    "tags": []
   },
   "outputs": [],
   "source": [
    "from tensorflow.keras.layers import Conv1D, Bidirectional, LSTM, Dense, Input, Dropout\n",
    "from tensorflow.keras.layers import SpatialDropout1D\n",
    "from tensorflow.keras.callbacks import ModelCheckpoint\n",
    "from tensorflow.keras.models import Sequential"
   ]
  },
  {
   "cell_type": "code",
   "execution_count": 26,
   "metadata": {
    "papermill": {
     "duration": 4.836685,
     "end_time": "2022-07-04T07:12:19.967892",
     "exception": false,
     "start_time": "2022-07-04T07:12:15.131207",
     "status": "completed"
    },
    "tags": []
   },
   "outputs": [],
   "source": [
    "# sequence_input = Input(shape=(MAX_SEQUENCE_LENGTH,), dtype='int32')\n",
    "# embedding_sequences = embedding_layer(sequence_input)\n",
    "# x = SpatialDropout1D(0.2)(embedding_sequences)\n",
    "# x = Conv1D(64, 5, activation='relu')(x)\n",
    "# # x = Bidirectional(LSTM(64, dropout=0.2, recurrent_dropout=0.2))(x)\n",
    "# x = LSTM(64, dropout=0.2, recurrent_dropout=0.2)(x)\n",
    "# x = Dense(512, activation='relu')(x)\n",
    "# x = Dropout(0.5)(x)\n",
    "# x = Dense(512, activation='relu')(x)\n",
    "# outputs = Dense(1, activation='sigmoid')(x)\n",
    "# model = tf.keras.Model(sequence_input, outputs)"
   ]
  },
  {
   "cell_type": "code",
   "execution_count": 27,
   "metadata": {},
   "outputs": [],
   "source": [
    "model = Sequential()\n",
    "model.add(Input(shape=(MAX_SEQUENCE_LENGTH,), dtype='int32'))\n",
    "model.add(embedding_layer)\n",
    "model.add(SpatialDropout1D(0.2))\n",
    "model.add(Conv1D(64, 5, activation='relu'))\n",
    "model.add(Bidirectional(LSTM(64, dropout=0.2)))\n",
    "model.add(Dense(512, activation='relu'))\n",
    "model.add(Dropout(0.5))\n",
    "model.add(Dense(512, activation='relu'))\n",
    "model.add(Dense(1, activation='sigmoid'))"
   ]
  },
  {
   "cell_type": "markdown",
   "metadata": {
    "papermill": {
     "duration": 0.294001,
     "end_time": "2022-07-04T07:12:20.557234",
     "exception": false,
     "start_time": "2022-07-04T07:12:20.263233",
     "status": "completed"
    },
    "tags": []
   },
   "source": [
    "### Optimization Algorithm\n",
    "This notebook uses Adam, optimization algorithm for Gradient Descent. You can learn more about Adam [here](https://www.tensorflow.org/api_docs/python/tf/keras/optimizers/Adam)\n",
    "\n",
    "### Callbacks\n",
    "Callbacks are special functions which are called at the end of an epoch. We can use any functions to perform specific operation after each epoch. I used two callbacks here,\n",
    "\n",
    "- **LRScheduler** - It changes a Learning Rate at specfic epoch to achieve more improved result. In this notebook, the learning rate exponentionally decreases after remaining same for first 10 Epoch.\n",
    "\n",
    "- **ModelCheckPoint** - It saves best model while training based on some metrics. Here, it saves the model with minimum Validity Loss."
   ]
  },
  {
   "cell_type": "code",
   "execution_count": 33,
   "metadata": {
    "papermill": {
     "duration": 0.390924,
     "end_time": "2022-07-04T07:12:21.453672",
     "exception": false,
     "start_time": "2022-07-04T07:12:21.062748",
     "status": "completed"
    },
    "tags": []
   },
   "outputs": [],
   "source": [
    "optimizer = tf.keras.optimizers.Adam(clipnorm=1.0, learning_rate=LR)\n",
    "model.compile(optimizer=optimizer, loss='binary_crossentropy', metrics=['accuracy'])"
   ]
  },
  {
   "cell_type": "markdown",
   "metadata": {
    "papermill": {
     "duration": 0.293343,
     "end_time": "2022-07-04T07:12:22.043105",
     "exception": false,
     "start_time": "2022-07-04T07:12:21.749762",
     "status": "completed"
    },
    "tags": []
   },
   "source": [
    "Let's start training... It takes a heck of a time if training in CPU, be sure your GPU turned on... May the CUDA Cores be with you...."
   ]
  },
  {
   "cell_type": "code",
   "execution_count": 30,
   "metadata": {
    "papermill": {
     "duration": 0.331282,
     "end_time": "2022-07-04T07:12:22.669770",
     "exception": false,
     "start_time": "2022-07-04T07:12:22.338488",
     "status": "completed"
    },
    "tags": []
   },
   "outputs": [
    {
     "name": "stdout",
     "output_type": "stream",
     "text": [
      "WARNING:tensorflow:From /var/folders/y1/r6lw81g960n148db75yhq7140000gn/T/ipykernel_3281/2293344113.py:1: is_gpu_available (from tensorflow.python.framework.test_util) is deprecated and will be removed in a future version.\n",
      "Instructions for updating:\n",
      "Use `tf.config.list_physical_devices('GPU')` instead.\n",
      "Training on GPU...\n"
     ]
    },
    {
     "name": "stderr",
     "output_type": "stream",
     "text": [
      "2024-09-06 11:13:43.658886: I tensorflow/core/common_runtime/pluggable_device/pluggable_device_factory.cc:305] Could not identify NUMA node of platform GPU ID 0, defaulting to 0. Your kernel may not have been built with NUMA support.\n",
      "2024-09-06 11:13:43.658909: I tensorflow/core/common_runtime/pluggable_device/pluggable_device_factory.cc:271] Created TensorFlow device (/device:GPU:0 with 0 MB memory) -> physical PluggableDevice (device: 0, name: METAL, pci bus id: <undefined>)\n"
     ]
    }
   ],
   "source": [
    "print(\"Training on GPU...\") if tf.test.is_gpu_available() else print(\"Training on CPU...\")"
   ]
  },
  {
   "cell_type": "code",
   "execution_count": 34,
   "metadata": {
    "papermill": {
     "duration": 1773.726798,
     "end_time": "2022-07-04T07:41:56.700598",
     "exception": false,
     "start_time": "2022-07-04T07:12:22.973800",
     "status": "completed"
    },
    "tags": []
   },
   "outputs": [
    {
     "name": "stdout",
     "output_type": "stream",
     "text": [
      "Epoch 1/10\n",
      "\u001b[1m2500/2500\u001b[0m \u001b[32m━━━━━━━━━━━━━━━━━━━━\u001b[0m\u001b[37m\u001b[0m \u001b[1m1464s\u001b[0m 585ms/step - accuracy: 0.7338 - loss: 0.5279 - val_accuracy: 0.7642 - val_loss: 0.4863\n",
      "Epoch 2/10\n",
      "\u001b[1m2500/2500\u001b[0m \u001b[32m━━━━━━━━━━━━━━━━━━━━\u001b[0m\u001b[37m\u001b[0m \u001b[1m1436s\u001b[0m 574ms/step - accuracy: 0.7623 - loss: 0.4883 - val_accuracy: 0.7704 - val_loss: 0.4757\n",
      "Epoch 3/10\n",
      "\u001b[1m2500/2500\u001b[0m \u001b[32m━━━━━━━━━━━━━━━━━━━━\u001b[0m\u001b[37m\u001b[0m \u001b[1m0s\u001b[0m 509ms/step - accuracy: 0.7694 - loss: 0.4776"
     ]
    }
   ],
   "source": [
    "history = model.fit(x_train, y_train, batch_size=BATCH_SIZE, epochs=EPOCHS, validation_data=(x_test, y_test))"
   ]
  },
  {
   "cell_type": "markdown",
   "metadata": {
    "papermill": {
     "duration": 4.08056,
     "end_time": "2022-07-04T07:42:04.856415",
     "exception": false,
     "start_time": "2022-07-04T07:42:00.775855",
     "status": "completed"
    },
    "tags": []
   },
   "source": [
    "# Model Evaluation\n",
    "Now that we have trained the model, we can evaluate its performance. We will some evaluation metrics and techniques to test the model.\n",
    "\n",
    "Let's start with the Learning Curve of loss and accuracy of the model on each epoch."
   ]
  },
  {
   "cell_type": "code",
   "execution_count": 31,
   "metadata": {
    "papermill": {
     "duration": 4.097969,
     "end_time": "2022-07-04T07:42:12.707784",
     "exception": false,
     "start_time": "2022-07-04T07:42:08.609815",
     "status": "completed"
    },
    "tags": []
   },
   "outputs": [
    {
     "data": {
      "text/plain": [
       "<matplotlib.legend.Legend at 0x7fa500090c90>"
      ]
     },
     "execution_count": 31,
     "metadata": {},
     "output_type": "execute_result"
    },
    {
     "data": {
      "image/png": "[encoded data removed]",
      "text/plain": [
       "<Figure size 432x288 with 2 Axes>"
      ]
     },
     "metadata": {
      "needs_background": "light"
     },
     "output_type": "display_data"
    }
   ],
   "source": [
    "s, (at, al) = plt.subplots(2,1)\n",
    "at.plot(history.history['accuracy'], c= 'b')\n",
    "at.plot(history.history['val_accuracy'], c='r')\n",
    "at.set_title('model accuracy')\n",
    "at.set_ylabel('accuracy')\n",
    "at.set_xlabel('epoch')\n",
    "at.legend(['LSTM_train', 'LSTM_val'], loc='upper left')\n",
    "\n",
    "al.plot(history.history['loss'], c='m')\n",
    "al.plot(history.history['val_loss'], c='c')\n",
    "al.set_title('model loss')\n",
    "al.set_ylabel('loss')\n",
    "al.set_xlabel('epoch')\n",
    "al.legend(['train', 'val'], loc = 'upper left')"
   ]
  },
  {
   "cell_type": "markdown",
   "metadata": {
    "papermill": {
     "duration": 3.841364,
     "end_time": "2022-07-04T07:42:20.634291",
     "exception": false,
     "start_time": "2022-07-04T07:42:16.792927",
     "status": "completed"
    },
    "tags": []
   },
   "source": [
    "The model will output a prediction score between 0 and 1. We can classify two classes by defining a threshold value for it. In our case, I have set 0.5 as THRESHOLD value, if the score above it. Then it will be classified as **POSITIVE** sentiment."
   ]
  },
  {
   "cell_type": "code",
   "execution_count": 32,
   "metadata": {
    "papermill": {
     "duration": 10.111523,
     "end_time": "2022-07-04T07:42:34.567283",
     "exception": false,
     "start_time": "2022-07-04T07:42:24.455760",
     "status": "completed"
    },
    "tags": []
   },
   "outputs": [
    {
     "name": "stdout",
     "output_type": "stream",
     "text": [
      "320000/320000 [==============================] - 5s 15us/sample\n"
     ]
    }
   ],
   "source": [
    "def decode_sentiment(score):\n",
    "    return \"Positive\" if score>0.5 else \"Negative\"\n",
    "\n",
    "\n",
    "scores = model.predict(x_test, verbose=1, batch_size=10000)\n",
    "y_pred_1d = [decode_sentiment(score) for score in scores]"
   ]
  },
  {
   "cell_type": "markdown",
   "metadata": {
    "papermill": {
     "duration": 3.769376,
     "end_time": "2022-07-04T07:42:42.396946",
     "exception": false,
     "start_time": "2022-07-04T07:42:38.627570",
     "status": "completed"
    },
    "tags": []
   },
   "source": [
    "### Confusion Matrix\n",
    "Confusion Matrix provide a nice overlook at the model's performance in classification task"
   ]
  },
  {
   "cell_type": "code",
   "execution_count": 33,
   "metadata": {
    "papermill": {
     "duration": 4.055798,
     "end_time": "2022-07-04T07:42:50.279728",
     "exception": false,
     "start_time": "2022-07-04T07:42:46.223930",
     "status": "completed"
    },
    "tags": []
   },
   "outputs": [],
   "source": [
    "import itertools\n",
    "from sklearn.metrics import confusion_matrix, classification_report, accuracy_score\n",
    "def plot_confusion_matrix(cm, classes,\n",
    "                          title='Confusion matrix',\n",
    "                          cmap=plt.cm.Blues):\n",
    "    \"\"\"\n",
    "    This function prints and plots the confusion matrix.\n",
    "    Normalization can be applied by setting `normalize=True`.\n",
    "    \"\"\"\n",
    "\n",
    "    cm = cm.astype('float') / cm.sum(axis=1)[:, np.newaxis]\n",
    "\n",
    "    plt.imshow(cm, interpolation='nearest', cmap=cmap)\n",
    "    plt.title(title, fontsize=20)\n",
    "    plt.colorbar()\n",
    "    tick_marks = np.arange(len(classes))\n",
    "    plt.xticks(tick_marks, classes, fontsize=13)\n",
    "    plt.yticks(tick_marks, classes, fontsize=13)\n",
    "\n",
    "    fmt = '.2f'\n",
    "    thresh = cm.max() / 2.\n",
    "    for i, j in itertools.product(range(cm.shape[0]), range(cm.shape[1])):\n",
    "        plt.text(j, i, format(cm[i, j], fmt),\n",
    "                 horizontalalignment=\"center\",\n",
    "                 color=\"white\" if cm[i, j] > thresh else \"black\")\n",
    "\n",
    "    plt.ylabel('True label', fontsize=17)\n",
    "    plt.xlabel('Predicted label', fontsize=17)"
   ]
  },
  {
   "cell_type": "code",
   "execution_count": 34,
   "metadata": {
    "papermill": {
     "duration": 5.564003,
     "end_time": "2022-07-04T07:42:59.618860",
     "exception": false,
     "start_time": "2022-07-04T07:42:54.054857",
     "status": "completed"
    },
    "tags": []
   },
   "outputs": [
    {
     "data": {
      "image/png": "[encoded data removed]",
      "text/plain": [
       "<Figure size 432x432 with 2 Axes>"
      ]
     },
     "metadata": {
      "needs_background": "light"
     },
     "output_type": "display_data"
    }
   ],
   "source": [
    "cnf_matrix = confusion_matrix(test_data.sentiment.to_list(), y_pred_1d)\n",
    "plt.figure(figsize=(6,6))\n",
    "plot_confusion_matrix(cnf_matrix, classes=test_data.sentiment.unique(), title=\"Confusion matrix\")\n",
    "plt.show()"
   ]
  },
  {
   "cell_type": "markdown",
   "metadata": {
    "papermill": {
     "duration": 3.828647,
     "end_time": "2022-07-04T07:43:07.488674",
     "exception": false,
     "start_time": "2022-07-04T07:43:03.660027",
     "status": "completed"
    },
    "tags": []
   },
   "source": [
    "### Classification Scores"
   ]
  },
  {
   "cell_type": "code",
   "execution_count": 35,
   "metadata": {
    "papermill": {
     "duration": 7.346414,
     "end_time": "2022-07-04T07:43:19.129899",
     "exception": false,
     "start_time": "2022-07-04T07:43:11.783485",
     "status": "completed"
    },
    "tags": []
   },
   "outputs": [
    {
     "name": "stdout",
     "output_type": "stream",
     "text": [
      "              precision    recall  f1-score   support\n",
      "\n",
      "    Negative       0.78      0.78      0.78    160542\n",
      "    Positive       0.78      0.78      0.78    159458\n",
      "\n",
      "    accuracy                           0.78    320000\n",
      "   macro avg       0.78      0.78      0.78    320000\n",
      "weighted avg       0.78      0.78      0.78    320000\n",
      "\n"
     ]
    }
   ],
   "source": [
    "print(classification_report(list(test_data.sentiment), y_pred_1d))"
   ]
  },
  {
   "cell_type": "markdown",
   "metadata": {
    "papermill": {
     "duration": 3.789823,
     "end_time": "2022-07-04T07:43:27.029265",
     "exception": false,
     "start_time": "2022-07-04T07:43:23.239442",
     "status": "completed"
    },
    "tags": []
   },
   "source": [
    "It's a pretty good model we trained here in terms of NLP. Around 80% accuracy is good enough considering the baseline human accuracy also pretty low in these tasks. Also, you may go on and explore the dataset, some tweets might have other languages than English. So our Embedding and Tokenizing wont have effect on them. But on practical scenario, this model is good for handling most tasks for Sentiment Analysis."
   ]
  },
  {
   "cell_type": "markdown",
   "metadata": {
    "papermill": {
     "duration": 4.422921,
     "end_time": "2022-07-04T07:43:35.445533",
     "exception": false,
     "start_time": "2022-07-04T07:43:31.022612",
     "status": "completed"
    },
    "tags": []
   },
   "source": [
    "<h3>Some of the resource and people who help me learn some concepts</h3>\n",
    "<font color='#008080'>\n",
    "    <ul>\n",
    "        <li> <b>Andrew NG's Seqence Model Course</b> at <a href=\"https://www.coursera.org/learn/nlp-sequence-models\"> Coursera</a> </li>\n",
    "    \n",
    "<li> <b>Andrej Karpathy's Blog</b> on <a href=\"http://karpathy.github.io/2015/05/21/rnn-effectiveness/\">Effectiveness of RNN</a></li>\n",
    "\n",
    "<li> <b>Intuitive Understanding of GloVe Embedding</b> on <a href=\"https://towardsdatascience.com/light-on-math-ml-intuitive-guide-to-understanding-glove-embeddings-b13b4f19c010\">TDS</a></li>\n",
    "\n",
    "<li> <b>Keras tutorial on Word Embedding</b> <a href=\"https://blog.keras.io/using-pre-trained-word-embeddings-in-a-keras-model.html\"> here</a></li>\n",
    "\n",
    "</ul>\n",
    "</font>"
   ]
  },
  {
   "cell_type": "markdown",
   "metadata": {
    "papermill": {
     "duration": 4.110393,
     "end_time": "2022-07-04T07:43:43.404361",
     "exception": false,
     "start_time": "2022-07-04T07:43:39.293968",
     "status": "completed"
    },
    "tags": []
   },
   "source": [
    "> <font color='#696969'>I got to say like you, I am still at learning phase in terms of NLP. I have got lot to learn in future. I found that writing this notebook even though it is done by lot of people before me helps me with a deeper and complete understanding our the concepts that I am learning. Kaggle has been a amazing place to learn from and contribute to community of Data Science Aspirants.</font>"
   ]
  },
  {
   "cell_type": "markdown",
   "metadata": {
    "papermill": {
     "duration": 3.806363,
     "end_time": "2022-07-04T07:43:50.991164",
     "exception": false,
     "start_time": "2022-07-04T07:43:47.184801",
     "status": "completed"
    },
    "tags": []
   },
   "source": [
    "<h2><font color='red'> If you find this notebook usefull kindly UPVOTE this notebook. I am new to writting notebooks hope that would really encourage me to write and learn more.</font></h2>\n",
    "\n",
    "<h5>Thanks in Advance. Have a nice day. Learn more and Happy Kaggle</h5>"
   ]
  }
 ],
 "metadata": {
  "kernelspec": {
   "display_name": "Python 3",
   "language": "python",
   "name": "python3"
  },
  "language_info": {
   "codemirror_mode": {
    "name": "ipython",
    "version": 3
   },
   "file_extension": ".py",
   "mimetype": "text/x-python",
   "name": "python",
   "nbconvert_exporter": "python",
   "pygments_lexer": "ipython3",
   "version": "3.10.14"
  },
  "papermill": {
   "duration": 2390.326164,
   "end_time": "2022-07-04T07:43:57.607436",
   "environment_variables": {},
   "exception": null,
   "input_path": "__notebook__.ipynb",
   "output_path": "__notebook__.ipynb",
   "parameters": {},
   "start_time": "2022-07-04T07:04:07.281272",
   "version": "1.2.1"
  }
 },
 "nbformat": 4,
 "nbformat_minor": 4
}
