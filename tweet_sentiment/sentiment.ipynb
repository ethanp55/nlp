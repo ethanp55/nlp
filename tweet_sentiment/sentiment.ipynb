{
 "cells": [
  {
   "cell_type": "code",
   "execution_count": 1,
   "metadata": {},
   "outputs": [
    {
     "name": "stderr",
     "output_type": "stream",
     "text": [
      "[nltk_data] Downloading package stopwords to /Users/mymac/nltk_data...\n",
      "[nltk_data]   Package stopwords is already up-to-date!\n",
      "[nltk_data] Downloading package wordnet to /Users/mymac/nltk_data...\n",
      "[nltk_data]   Package wordnet is already up-to-date!\n"
     ]
    }
   ],
   "source": [
    "import io\n",
    "import itertools\n",
    "import matplotlib.pyplot as plt\n",
    "import nltk \n",
    "nltk.download('stopwords')\n",
    "nltk.download('wordnet')\n",
    "from nltk.corpus import stopwords\n",
    "from nltk.stem import WordNetLemmatizer\n",
    "import numpy as np\n",
    "import pandas as pd\n",
    "import re\n",
    "from sklearn.metrics import confusion_matrix, classification_report\n",
    "from sklearn.model_selection import train_test_split\n",
    "from sklearn.preprocessing import LabelEncoder\n",
    "from spellchecker import SpellChecker\n",
    "import tensorflow as tf\n",
    "from tensorflow.keras.layers import Attention, Bidirectional, Conv1D, Dense, Dropout, Embedding, GlobalAveragePooling1D, GRU, Input, SpatialDropout1D\n",
    "from tensorflow.keras.models import load_model, Model, Sequential"
   ]
  },
  {
   "cell_type": "code",
   "execution_count": 2,
   "metadata": {},
   "outputs": [
    {
     "data": {
      "text/html": [
       "<div>\n",
       "<style scoped>\n",
       "    .dataframe tbody tr th:only-of-type {\n",
       "        vertical-align: middle;\n",
       "    }\n",
       "\n",
       "    .dataframe tbody tr th {\n",
       "        vertical-align: top;\n",
       "    }\n",
       "\n",
       "    .dataframe thead th {\n",
       "        text-align: right;\n",
       "    }\n",
       "</style>\n",
       "<table border=\"1\" class=\"dataframe\">\n",
       "  <thead>\n",
       "    <tr style=\"text-align: right;\">\n",
       "      <th></th>\n",
       "      <th>sentiment</th>\n",
       "      <th>text</th>\n",
       "    </tr>\n",
       "  </thead>\n",
       "  <tbody>\n",
       "    <tr>\n",
       "      <th>0</th>\n",
       "      <td>Negative</td>\n",
       "      <td>@switchfoot http://twitpic.com/2y1zl - Awww, t...</td>\n",
       "    </tr>\n",
       "    <tr>\n",
       "      <th>1</th>\n",
       "      <td>Negative</td>\n",
       "      <td>is upset that he can't update his Facebook by ...</td>\n",
       "    </tr>\n",
       "    <tr>\n",
       "      <th>2</th>\n",
       "      <td>Negative</td>\n",
       "      <td>@Kenichan I dived many times for the ball. Man...</td>\n",
       "    </tr>\n",
       "    <tr>\n",
       "      <th>3</th>\n",
       "      <td>Negative</td>\n",
       "      <td>my whole body feels itchy and like its on fire</td>\n",
       "    </tr>\n",
       "    <tr>\n",
       "      <th>4</th>\n",
       "      <td>Negative</td>\n",
       "      <td>@nationwideclass no, it's not behaving at all....</td>\n",
       "    </tr>\n",
       "  </tbody>\n",
       "</table>\n",
       "</div>"
      ],
      "text/plain": [
       "  sentiment                                               text\n",
       "0  Negative  @switchfoot http://twitpic.com/2y1zl - Awww, t...\n",
       "1  Negative  is upset that he can't update his Facebook by ...\n",
       "2  Negative  @Kenichan I dived many times for the ball. Man...\n",
       "3  Negative    my whole body feels itchy and like its on fire \n",
       "4  Negative  @nationwideclass no, it's not behaving at all...."
      ]
     },
     "execution_count": 2,
     "metadata": {},
     "output_type": "execute_result"
    }
   ],
   "source": [
    "df = pd.read_csv('./training.1600000.processed.noemoticon.csv', encoding = 'latin',header=None)\n",
    "df.columns = ['sentiment', 'id', 'date', 'query', 'user_id', 'text']\n",
    "df = df.drop(['id', 'date', 'query', 'user_id'], axis=1)\n",
    "lab_to_sentiment = {0: 'Negative', 4: 'Positive'}\n",
    "\n",
    "def label_decoder(label):\n",
    "  return lab_to_sentiment[label]\n",
    "\n",
    "df.sentiment = df.sentiment.apply(lambda x: label_decoder(x))\n",
    "\n",
    "df.head()"
   ]
  },
  {
   "cell_type": "code",
   "execution_count": 3,
   "metadata": {},
   "outputs": [
    {
     "data": {
      "text/plain": [
       "<BarContainer object of 2 artists>"
      ]
     },
     "execution_count": 3,
     "metadata": {},
     "output_type": "execute_result"
    },
    {
     "data": {
      "image/png": "[encoded data removed]",
      "text/plain": [
       "<Figure size 800x400 with 1 Axes>"
      ]
     },
     "metadata": {},
     "output_type": "display_data"
    }
   ],
   "source": [
    "val_count = df.sentiment.value_counts()\n",
    "plt.figure(figsize=(8,4))\n",
    "plt.bar(val_count.index, val_count.values)"
   ]
  },
  {
   "cell_type": "markdown",
   "metadata": {},
   "source": [
    "I used lemmatization instead of stemming, tried to separate numbers from text, and originally planned on using spell checking; however, it took too long"
   ]
  },
  {
   "cell_type": "code",
   "execution_count": 4,
   "metadata": {},
   "outputs": [],
   "source": [
    "TOKENIZE = False\n",
    "\n",
    "if TOKENIZE:\n",
    "    stop_words = stopwords.words('english')\n",
    "    lemmatizer = WordNetLemmatizer()\n",
    "    spell = SpellChecker()\n",
    "    text_cleaning_re = '@\\S+|https?:\\S+|http?:\\S|[^A-Za-z0-9]+'\n",
    "    separate_numbers_re = '(?<=[a-zA-Z])(?=\\d)|(?<=\\d)(?=[a-zA-Z])'\n",
    "\n",
    "    def _correct_spelling(tokens):\n",
    "        corrections = []\n",
    "\n",
    "        for word in tokens:\n",
    "            correction = spell.correction(word)\n",
    "            word_corrected = word if correction is None else correction\n",
    "            corrections.append(word_corrected)\n",
    "\n",
    "        return corrections\n",
    "\n",
    "    def _preprocess(text):\n",
    "        text = re.sub(text_cleaning_re, ' ', str(text).lower()).strip()\n",
    "        text = re.sub(separate_numbers_re, ' ', text)\n",
    "        \n",
    "        tokens = []\n",
    "\n",
    "        for token in text.split():\n",
    "            if token not in stop_words:\n",
    "                tokens.append(lemmatizer.lemmatize(token))\n",
    "        \n",
    "        # tokens = _correct_spelling(tokens)\n",
    "        \n",
    "        return ' '.join(tokens)\n",
    "\n",
    "    df.text = df.text.apply(lambda x: _preprocess(x))\n",
    "    df.to_csv('./df_with_tokens.csv')\n",
    "\n",
    "else:\n",
    "    df = pd.read_csv('./df_with_tokens.csv')"
   ]
  },
  {
   "cell_type": "markdown",
   "metadata": {},
   "source": [
    "Normally I like using a train size of 0.7 to 0.75 (seems to be the norm), but I used 0.8 for consistency with the original notebook; I also used the same random state for comparison purposes"
   ]
  },
  {
   "cell_type": "code",
   "execution_count": 5,
   "metadata": {},
   "outputs": [
    {
     "name": "stdout",
     "output_type": "stream",
     "text": [
      "(1280000,) (1280000,) (320000,) (320000,)\n"
     ]
    }
   ],
   "source": [
    "TRAIN_SIZE = 0.8\n",
    "train_data, test_data = train_test_split(df[['text', 'sentiment']], train_size=TRAIN_SIZE, random_state=7)\n",
    "x_train, y_train, x_test, y_test = np.array(train_data['text']), np.array(train_data['sentiment']), np.array(test_data['text']), np.array(test_data['sentiment'])\n",
    "\n",
    "print(x_train.shape, y_train.shape, x_test.shape, y_test.shape)"
   ]
  },
  {
   "cell_type": "markdown",
   "metadata": {},
   "source": [
    "I originally tried using a small bert model (for tokenization and embeddings) but it was still too much for my computer to handle "
   ]
  },
  {
   "cell_type": "code",
   "execution_count": 6,
   "metadata": {},
   "outputs": [],
   "source": [
    "# tokenizer = DistilBertTokenizer.from_pretrained('distilbert-base-uncased-distilled-squad')\n",
    "\n",
    "# x_train = tokenizer(list(x_train), truncation=True, padding='max_length', max_length=50, return_tensors='tf')\n",
    "# x_test = tokenizer(list(x_test), truncation=True, padding='max_length', max_length=50, return_tensors='tf')\n",
    "\n",
    "# x_train, x_test = x_train['input_ids'], x_test['input_ids']\n",
    "\n",
    "# print(x_train.shape, x_test.shape)"
   ]
  },
  {
   "cell_type": "markdown",
   "metadata": {},
   "source": [
    "After trying a few bert models, I decided to try fastText embeddings from https://fasttext.cc/docs/en/english-vectors.html; from my understanding, there are more embeddings, especially for more uncommon words and subwords, which will hopefully reduce the number of zero vectors used for the vocabulary"
   ]
  },
  {
   "cell_type": "code",
   "execution_count": 7,
   "metadata": {},
   "outputs": [],
   "source": [
    "# This function was modified from the example function provided at https://fasttext.cc/docs/en/english-vectors.html\n",
    "def load_vectors(fname):\n",
    "    fin = io.open(fname, 'r', encoding='utf-8', newline='\\n', errors='ignore')\n",
    "    data = {}\n",
    "    for line in fin:\n",
    "        values = line.rstrip().split()\n",
    "        word = values[0]\n",
    "        vector = np.asarray(values[1:], dtype='float32')\n",
    "        data[word] = vector\n",
    "    return data\n",
    "\n",
    "embeddings_index = load_vectors('./wiki-news-300d-1M-subword.vec')\n",
    "len(embeddings_index)"
   ]
  },
  {
   "cell_type": "code",
   "execution_count": 8,
   "metadata": {},
   "outputs": [
    {
     "name": "stdout",
     "output_type": "stream",
     "text": [
      "Found 400000 word vectors.\n"
     ]
    }
   ],
   "source": [
    "# embeddings_index = {}\n",
    "\n",
    "# f = open('./glove/glove.6B.300d.txt')\n",
    "# for line in f:\n",
    "#     values = line.split()\n",
    "#     word = value = values[0]\n",
    "#     coefs = np.asarray(values[1:], dtype='float32')\n",
    "#     embeddings_index[word] = coefs\n",
    "# f.close()\n",
    "\n",
    "# print('Found %s word vectors.' %len(embeddings_index))"
   ]
  },
  {
   "cell_type": "code",
   "execution_count": 9,
   "metadata": {},
   "outputs": [
    {
     "name": "stdout",
     "output_type": "stream",
     "text": [
      "WARNING:tensorflow:No training configuration found in save file, so the model was *not* compiled. Compile it manually.\n"
     ]
    },
    {
     "name": "stderr",
     "output_type": "stream",
     "text": [
      "2024-09-10 17:32:40.193061: I metal_plugin/src/device/metal_device.cc:1154] Metal device set to: Apple M1 Pro\n",
      "2024-09-10 17:32:40.193093: I metal_plugin/src/device/metal_device.cc:296] systemMemory: 32.00 GB\n",
      "2024-09-10 17:32:40.193101: I metal_plugin/src/device/metal_device.cc:313] maxCacheSize: 10.67 GB\n",
      "2024-09-10 17:32:40.193150: I tensorflow/core/common_runtime/pluggable_device/pluggable_device_factory.cc:306] Could not identify NUMA node of platform GPU ID 0, defaulting to 0. Your kernel may not have been built with NUMA support.\n",
      "2024-09-10 17:32:40.193168: I tensorflow/core/common_runtime/pluggable_device/pluggable_device_factory.cc:272] Created TensorFlow device (/job:localhost/replica:0/task:0/device:GPU:0 with 0 MB memory) -> physical PluggableDevice (device: 0, name: METAL, pci bus id: <undefined>)\n",
      "2024-09-10 17:32:40.293525: I tensorflow/core/grappler/optimizers/custom_graph_optimizer_registry.cc:117] Plugin optimizer for device_type GPU is enabled.\n",
      "2024-09-10 17:32:40.295534: E tensorflow/core/grappler/optimizers/meta_optimizer.cc:961] PluggableGraphOptimizer failed: INVALID_ARGUMENT: Failed to deserialize the `graph_buf`.\n"
     ]
    }
   ],
   "source": [
    "LEARN_VECTORIZATION = False\n",
    "\n",
    "if LEARN_VECTORIZATION:\n",
    "    vectorizer = tf.keras.layers.TextVectorization(\n",
    "        output_mode='int',\n",
    "        output_sequence_length=50\n",
    "    )\n",
    "    vectorizer.adapt(df['text'])\n",
    "    vectorizer_model = Sequential([Input(shape=(1,), dtype=tf.string), vectorizer])\n",
    "    vectorizer_model.save('./text_vectorization_layer')\n",
    "\n",
    "else:\n",
    "    vectorizer = load_model('./text_vectorization_layer').layers[0]"
   ]
  },
  {
   "cell_type": "code",
   "execution_count": 10,
   "metadata": {},
   "outputs": [
    {
     "data": {
      "text/plain": [
       "310299"
      ]
     },
     "execution_count": 10,
     "metadata": {},
     "output_type": "execute_result"
    }
   ],
   "source": [
    "vocab = vectorizer.get_vocabulary()\n",
    "vocab_size = vectorizer.vocabulary_size()\n",
    "\n",
    "vocab_size"
   ]
  },
  {
   "cell_type": "code",
   "execution_count": 11,
   "metadata": {},
   "outputs": [
    {
     "name": "stdout",
     "output_type": "stream",
     "text": [
      "(1280000, 50) (320000, 50)\n"
     ]
    }
   ],
   "source": [
    "x_train, x_test = vectorizer(x_train.astype(str)), vectorizer(x_test.astype(str))\n",
    "\n",
    "print(x_train.shape, x_test.shape)"
   ]
  },
  {
   "cell_type": "code",
   "execution_count": 12,
   "metadata": {},
   "outputs": [
    {
     "name": "stdout",
     "output_type": "stream",
     "text": [
      "(1280000, 1) (320000, 1)\n"
     ]
    }
   ],
   "source": [
    "encoder = LabelEncoder()\n",
    "encoder.fit(list(y_train))\n",
    "\n",
    "y_train = encoder.transform(list(y_train))\n",
    "y_test = encoder.transform(list(y_test))\n",
    "\n",
    "y_train = y_train.reshape(-1, 1)\n",
    "y_test = y_test.reshape(-1, 1)\n",
    "\n",
    "print(y_train.shape, y_test.shape)"
   ]
  },
  {
   "cell_type": "code",
   "execution_count": 13,
   "metadata": {},
   "outputs": [],
   "source": [
    "LR = 1e-3\n",
    "BATCH_SIZE = 512\n",
    "EPOCHS = 10"
   ]
  },
  {
   "cell_type": "code",
   "execution_count": 14,
   "metadata": {},
   "outputs": [],
   "source": [
    "embedding_matrix = np.zeros((vocab_size, 300))\n",
    "\n",
    "for i, word in enumerate(vocab):\n",
    "  embedding_vector = embeddings_index.get(word)\n",
    "  \n",
    "  if embedding_vector is not None:\n",
    "    embedding_matrix[i] = embedding_vector"
   ]
  },
  {
   "cell_type": "markdown",
   "metadata": {},
   "source": [
    "As I mentioned previously, I was originally planning to use a small version of bert in my model for embeddings; however, it was going to take too long to run (about 2 hours per epoch)"
   ]
  },
  {
   "cell_type": "code",
   "execution_count": 15,
   "metadata": {},
   "outputs": [],
   "source": [
    "# distilbert_model = TFDistilBertModel.from_pretrained('distilbert-base-uncased-distilled-squad')\n",
    "\n",
    "# def build_model():\n",
    "#     inputs = tf.keras.Input(shape=(50,), dtype=tf.int32)\n",
    "#     embeddings = distilbert_model(inputs).last_hidden_state\n",
    "#     spatial_dropout = SpatialDropout1D(0.2)(embeddings)\n",
    "#     gru_output = Bidirectional(GRU(64, return_sequences=True))(spatial_dropout)\n",
    "#     attention = Attention(dropout=0.2)([gru_output, gru_output])\n",
    "#     pooled_output = GlobalAveragePooling1D()(attention)\n",
    "#     dense_1 = tf.keras.layers.Dense(512, activation='relu')(pooled_output)\n",
    "#     dropout = tf.keras.layers.Dropout(0.5)(dense_1)\n",
    "#     dense_2 = tf.keras.layers.Dense(512, activation='relu')(dropout)\n",
    "#     outputs = tf.keras.layers.Dense(1, activation='sigmoid')(dense_2)\n",
    "#     model = tf.keras.Model(inputs, outputs)\n",
    "    \n",
    "#     return model"
   ]
  },
  {
   "cell_type": "markdown",
   "metadata": {},
   "source": [
    "Despite not using bert, I still made a few changes to the model: I used a max text length of 50 tokens (to allow for longer tweets), a GRU instead of an LSTM, an attention layer after the GRU, and I reduced the final dropout rate to 0.2 (the original 0.5 seemed like too much)"
   ]
  },
  {
   "cell_type": "code",
   "execution_count": 16,
   "metadata": {},
   "outputs": [],
   "source": [
    "embedding_layer = Embedding(vocab_size, 300, weights=[embedding_matrix], input_length=50, trainable=False)\n",
    "\n",
    "def build_model():\n",
    "    inputs = Input(shape=(50,), dtype=tf.int32)\n",
    "    embeddings = embedding_layer(inputs)\n",
    "    spatial_dropout = SpatialDropout1D(0.2)(embeddings)\n",
    "    conv = Conv1D(64, 5, activation='relu')(spatial_dropout)\n",
    "    gru_output = Bidirectional(GRU(64, return_sequences=True))(conv)\n",
    "    attention = Attention(dropout=0.2)([gru_output, gru_output])\n",
    "    pooled_output = GlobalAveragePooling1D()(attention)\n",
    "    dense_1 = Dense(512, activation='relu')(pooled_output)\n",
    "    dropout = Dropout(0.2)(dense_1)\n",
    "    dense_2 = Dense(512, activation='relu')(dropout)\n",
    "    outputs = Dense(1, activation='sigmoid')(dense_2)\n",
    "    model = Model(inputs, outputs)\n",
    "    \n",
    "    return model"
   ]
  },
  {
   "cell_type": "code",
   "execution_count": 17,
   "metadata": {},
   "outputs": [
    {
     "name": "stderr",
     "output_type": "stream",
     "text": [
      "WARNING:absl:At this time, the v2.11+ optimizer `tf.keras.optimizers.Adam` runs slowly on M1/M2 Macs, please use the legacy Keras optimizer instead, located at `tf.keras.optimizers.legacy.Adam`.\n"
     ]
    }
   ],
   "source": [
    "model = build_model()\n",
    "optimizer = tf.keras.optimizers.Adam(learning_rate=LR)\n",
    "model.compile(optimizer=optimizer, loss='binary_crossentropy', metrics=['accuracy'])"
   ]
  },
  {
   "cell_type": "code",
   "execution_count": 18,
   "metadata": {},
   "outputs": [
    {
     "name": "stdout",
     "output_type": "stream",
     "text": [
      "Epoch 1/10\n"
     ]
    },
    {
     "name": "stderr",
     "output_type": "stream",
     "text": [
      "WARNING: All log messages before absl::InitializeLog() is called are written to STDERR\n",
      "W0000 00:00:1726011195.628330       1 op_level_cost_estimator.cc:699] Error in PredictCost() for the op: op: \"Softmax\" attr { key: \"T\" value { type: DT_FLOAT } } inputs { dtype: DT_FLOAT shape { unknown_rank: true } } device { type: \"GPU\" } outputs { dtype: DT_FLOAT shape { unknown_rank: true } }\n"
     ]
    },
    {
     "name": "stdout",
     "output_type": "stream",
     "text": [
      "2500/2500 [==============================] - ETA: 0s - loss: 0.5135 - accuracy: 0.7438"
     ]
    },
    {
     "name": "stderr",
     "output_type": "stream",
     "text": [
      "W0000 00:00:1726011289.355944       1 op_level_cost_estimator.cc:699] Error in PredictCost() for the op: op: \"Softmax\" attr { key: \"T\" value { type: DT_FLOAT } } inputs { dtype: DT_FLOAT shape { unknown_rank: true } } device { type: \"GPU\" } outputs { dtype: DT_FLOAT shape { unknown_rank: true } }\n",
      "2024-09-10 17:34:49.357357: E tensorflow/core/grappler/optimizers/meta_optimizer.cc:961] PluggableGraphOptimizer failed: INVALID_ARGUMENT: Failed to deserialize the `graph_buf`.\n"
     ]
    },
    {
     "name": "stdout",
     "output_type": "stream",
     "text": [
      "2500/2500 [==============================] - 104s 41ms/step - loss: 0.5135 - accuracy: 0.7438 - val_loss: 0.4775 - val_accuracy: 0.7698\n",
      "Epoch 2/10\n",
      "2500/2500 [==============================] - 102s 41ms/step - loss: 0.4811 - accuracy: 0.7672 - val_loss: 0.4736 - val_accuracy: 0.7705\n",
      "Epoch 3/10\n",
      "2500/2500 [==============================] - 103s 41ms/step - loss: 0.4720 - accuracy: 0.7730 - val_loss: 0.4611 - val_accuracy: 0.7793\n",
      "Epoch 4/10\n",
      "2500/2500 [==============================] - 102s 41ms/step - loss: 0.4654 - accuracy: 0.7771 - val_loss: 0.4602 - val_accuracy: 0.7815\n",
      "Epoch 5/10\n",
      "2500/2500 [==============================] - 103s 41ms/step - loss: 0.4608 - accuracy: 0.7798 - val_loss: 0.4596 - val_accuracy: 0.7788\n",
      "Epoch 6/10\n",
      "2500/2500 [==============================] - 102s 41ms/step - loss: 0.4572 - accuracy: 0.7819 - val_loss: 0.4553 - val_accuracy: 0.7835\n",
      "Epoch 7/10\n",
      "2500/2500 [==============================] - 104s 42ms/step - loss: 0.4545 - accuracy: 0.7838 - val_loss: 0.4567 - val_accuracy: 0.7832\n",
      "Epoch 8/10\n",
      "2500/2500 [==============================] - 104s 41ms/step - loss: 0.4520 - accuracy: 0.7855 - val_loss: 0.4542 - val_accuracy: 0.7835\n",
      "Epoch 9/10\n",
      "2500/2500 [==============================] - 102s 41ms/step - loss: 0.4498 - accuracy: 0.7865 - val_loss: 0.4520 - val_accuracy: 0.7857\n",
      "Epoch 10/10\n",
      "2500/2500 [==============================] - 103s 41ms/step - loss: 0.4478 - accuracy: 0.7879 - val_loss: 0.4522 - val_accuracy: 0.7861\n"
     ]
    }
   ],
   "source": [
    "history = model.fit(x_train, y_train, batch_size=BATCH_SIZE, epochs=EPOCHS, validation_data=(x_test, y_test))"
   ]
  },
  {
   "cell_type": "markdown",
   "metadata": {},
   "source": [
    "The new performance is definitely better than the original (at least when I ran the original on my laptop)"
   ]
  },
  {
   "cell_type": "code",
   "execution_count": 19,
   "metadata": {},
   "outputs": [
    {
     "data": {
      "image/png": "[encoded data removed]",
      "text/plain": [
       "<Figure size 640x480 with 2 Axes>"
      ]
     },
     "metadata": {},
     "output_type": "display_data"
    }
   ],
   "source": [
    "s, (at, al) = plt.subplots(2,1)\n",
    "at.plot(history.history['accuracy'], c= 'b')\n",
    "at.plot(history.history['val_accuracy'], c='r')\n",
    "at.set_ylabel('accuracy')\n",
    "at.legend(['LSTM_train', 'LSTM_val'], loc='upper left')\n",
    "at.grid()\n",
    "\n",
    "al.plot(history.history['loss'], c='m')\n",
    "al.plot(history.history['val_loss'], c='c')\n",
    "al.set_ylabel('loss')\n",
    "al.set_xlabel('epoch')\n",
    "al.legend(['train', 'val'], loc = 'upper left')\n",
    "al.grid()\n",
    "\n",
    "plt.show()"
   ]
  },
  {
   "cell_type": "code",
   "execution_count": 20,
   "metadata": {},
   "outputs": [
    {
     "name": "stdout",
     "output_type": "stream",
     "text": [
      "  1/625 [..............................] - ETA: 3:59"
     ]
    },
    {
     "name": "stderr",
     "output_type": "stream",
     "text": [
      "W0000 00:00:1726012235.128762       1 op_level_cost_estimator.cc:699] Error in PredictCost() for the op: op: \"Softmax\" attr { key: \"T\" value { type: DT_FLOAT } } inputs { dtype: DT_FLOAT shape { unknown_rank: true } } device { type: \"GPU\" } outputs { dtype: DT_FLOAT shape { unknown_rank: true } }\n",
      "2024-09-10 17:50:35.129984: E tensorflow/core/grappler/optimizers/meta_optimizer.cc:961] PluggableGraphOptimizer failed: INVALID_ARGUMENT: Failed to deserialize the `graph_buf`.\n"
     ]
    },
    {
     "name": "stdout",
     "output_type": "stream",
     "text": [
      "625/625 [==============================] - 9s 14ms/step\n"
     ]
    }
   ],
   "source": [
    "def decode_sentiment(score):\n",
    "    return 'Positive' if score > 0.5 else 'Negative'\n",
    "\n",
    "scores = model.predict(x_test, verbose=1, batch_size=BATCH_SIZE)\n",
    "y_pred_1d = [decode_sentiment(score) for score in scores]"
   ]
  },
  {
   "cell_type": "code",
   "execution_count": 21,
   "metadata": {},
   "outputs": [],
   "source": [
    "def plot_confusion_matrix(cm, classes,\n",
    "                          title='Confusion matrix',\n",
    "                          cmap=plt.cm.Blues):\n",
    "    \"\"\"\n",
    "    This function prints and plots the confusion matrix.\n",
    "    Normalization can be applied by setting `normalize=True`.\n",
    "    \"\"\"\n",
    "\n",
    "    cm = cm.astype('float') / cm.sum(axis=1)[:, np.newaxis]\n",
    "\n",
    "    plt.imshow(cm, interpolation='nearest', cmap=cmap)\n",
    "    plt.title(title, fontsize=20)\n",
    "    plt.colorbar()\n",
    "    tick_marks = np.arange(len(classes))\n",
    "    plt.xticks(tick_marks, classes, fontsize=13)\n",
    "    plt.yticks(tick_marks, classes, fontsize=13)\n",
    "\n",
    "    fmt = '.2f'\n",
    "    thresh = cm.max() / 2.\n",
    "    for i, j in itertools.product(range(cm.shape[0]), range(cm.shape[1])):\n",
    "        plt.text(j, i, format(cm[i, j], fmt),\n",
    "                 horizontalalignment=\"center\",\n",
    "                 color=\"white\" if cm[i, j] > thresh else \"black\")\n",
    "\n",
    "    plt.ylabel('True label', fontsize=17)\n",
    "    plt.xlabel('Predicted label', fontsize=17)"
   ]
  },
  {
   "cell_type": "code",
   "execution_count": 22,
   "metadata": {},
   "outputs": [
    {
     "data": {
      "image/png": "[encoded data removed]",
      "text/plain": [
       "<Figure size 600x600 with 2 Axes>"
      ]
     },
     "metadata": {},
     "output_type": "display_data"
    }
   ],
   "source": [
    "cnf_matrix = confusion_matrix(test_data.sentiment.to_list(), y_pred_1d)\n",
    "plt.figure(figsize=(6,6))\n",
    "plot_confusion_matrix(cnf_matrix, classes=test_data.sentiment.unique(), title=\"Confusion matrix\")\n",
    "plt.show()"
   ]
  },
  {
   "cell_type": "code",
   "execution_count": 23,
   "metadata": {},
   "outputs": [
    {
     "name": "stdout",
     "output_type": "stream",
     "text": [
      "              precision    recall  f1-score   support\n",
      "\n",
      "    Negative       0.79      0.78      0.79    160542\n",
      "    Positive       0.78      0.79      0.79    159458\n",
      "\n",
      "    accuracy                           0.79    320000\n",
      "   macro avg       0.79      0.79      0.79    320000\n",
      "weighted avg       0.79      0.79      0.79    320000\n",
      "\n"
     ]
    }
   ],
   "source": [
    "print(classification_report(list(test_data.sentiment), y_pred_1d))"
   ]
  },
  {
   "cell_type": "markdown",
   "metadata": {},
   "source": [
    "The best test set accuracy from the model/process introduced in the original notebook was about 0.69.  This was somewhat similar to the results I saw on kaggle, but there appear to be some minor differences; I'm guessing that my version of tensorflow and/or other packages might be the cause of these discrepancies.  Regardless, my goal was to beat the original model.\n",
    "\n",
    "I first began with improving the text preprocessing phase.  I used lemmatization instead of stemming, because I read that lemmatization is typically more effective than stemming (but takes longer to run).  I also noticed there were several messages with text surrounded by numbers; to combat this, I used regex to separate the two.  Finally, I thought it might be effective to add spell correction (as people often misspell words).  However, this took very long to run (after about 2 hours my preprocessing code was still running), so I decided to discard it.\n",
    "\n",
    "For the train and test sets, I used a train size of 0.8 and the same random state from the original notebook (for comparison purposes).  I normally like to use a train size of 0.7 or 0.75 (because that seems to be common practice), but, again, I wanted to use the exact same sets from the original notebook for comparison.\n",
    "\n",
    "I was hoping to use a small bert model from Hugging Face for tokenization and embeddings, but even the smallest model I found took too long to run on my computer (more on this in the next paragraph).  Instead, I ended up using TensorFlow's text vectorization layer.  The tokenizer from the original notebook has been deprecated, so I figured it would be better to at least use something more up-to-date.\n",
    "\n",
    "As was mentioned previously, I wanted to use a small bert model as an embedding layer in my TensorFlow model.  However, when I set everything up, each training epoch was estimated to take about 2 hours.  So, for the word embeddings, I ended up using fastText embeddings from https://fasttext.cc/docs/en/english-vectors.html.  From my understanding, there are more embeddings, especially for more uncommon words and subwords, which seemed like a good way to reduce the number of zero vectors used for the vocabulary.  \n",
    "\n",
    "I also made a few changes to the model.  First, I used a maximum sequence length of 50 instead of 30 (to allow for longer tweets).  Second, I used a GRU instead of an LSTM.  Third, I used a simple attention layer after the GRU; this obviously isn't a transformer, but at least is a step in the right direction.  Finally, I reduced the final dropout layer rate to 0.2 (the original 0.5 seemed like too much).\n",
    "\n",
    "With these changes, one can hopefully see that the training process was smoother (on the training and validation sets, and in terms of loss and accuracy) and the test set results were better in nearly every category.  Specifically, my test set accuracy, precision scores, F1 scores, and recall scores (except in the negative case) were better.  Their recall score in the negative case was better (0.87 compared to my 0.78)."
   ]
  }
 ],
 "metadata": {
  "kernelspec": {
   "display_name": "501r",
   "language": "python",
   "name": "python3"
  },
  "language_info": {
   "codemirror_mode": {
    "name": "ipython",
    "version": 3
   },
   "file_extension": ".py",
   "mimetype": "text/x-python",
   "name": "python",
   "nbconvert_exporter": "python",
   "pygments_lexer": "ipython3",
   "version": "3.10.14"
  }
 },
 "nbformat": 4,
 "nbformat_minor": 2
}
